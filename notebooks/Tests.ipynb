{
 "cells": [
  {
   "cell_type": "code",
   "execution_count": 2,
   "metadata": {},
   "outputs": [],
   "source": [
    "# Importing necessary libraries\n",
    "import pandas as pd\n",
    "import geopandas as gpd\n",
    "import numpy as np\n",
    "import matplotlib.pyplot as plt\n",
    "from access import Access, weights, Datasets\n",
    "import geopandas as gpd\n",
    "from shapely import wkt\n",
    "import access\n",
    "# Custom functions\n",
    "from modified_access import *\n",
    "Access.mod_three_stage_fca = class_mod_three_stage_fca\n",
    "import math"
   ]
  },
  {
   "cell_type": "code",
   "execution_count": 37,
   "metadata": {},
   "outputs": [
    {
     "data": {
      "text/plain": [
       "0.1353352832366127"
      ]
     },
     "execution_count": 37,
     "metadata": {},
     "output_type": "execute_result"
    }
   ],
   "source": [
    "# Gaussian decay function\n",
    "def gaussian_decay(distance, sigma = 5):\n",
    "    return np.exp(-distance**2/(2*sigma**2))\n",
    "\n",
    "gaussian_decay(2, 1)"
   ]
  },
  {
   "cell_type": "markdown",
   "metadata": {},
   "source": [
    "Checking if our gaussian decay is the same as the one in the library"
   ]
  },
  {
   "cell_type": "code",
   "execution_count": 38,
   "metadata": {},
   "outputs": [
    {
     "data": {
      "image/png": "[encoded data removed]",
      "text/plain": [
       "<Figure size 640x480 with 1 Axes>"
      ]
     },
     "metadata": {},
     "output_type": "display_data"
    }
   ],
   "source": [
    "\n",
    "\n",
    "# Plot of the gaussian decay function\n",
    "x = np.linspace(0, 10, 100)\n",
    "y = gaussian_decay(x, 5)\n",
    "y2 = weights.gaussian(5000)(x)\n",
    "plt.plot(x, y2)\n",
    "plt.plot(x, y)\n",
    "plt.show()"
   ]
  },
  {
   "cell_type": "markdown",
   "metadata": {},
   "source": [
    "#### Calculating first by hand"
   ]
  },
  {
   "cell_type": "code",
   "execution_count": 70,
   "metadata": {},
   "outputs": [
    {
     "name": "stdout",
     "output_type": "stream",
     "text": [
      "Accessibility values: \n",
      "A1: 0.7641130493060578, A2: 0.8754581847071607, A3: 0.9567444826675047\n",
      "Quality values: \n",
      "Q1: 0.6653466163140159, Q2: 0.68285921422904, Q3: 0.7098766082202663\n"
     ]
    }
   ],
   "source": [
    "# demand\n",
    "h1 = 30\n",
    "h2 = 20\n",
    "h3 = 10\n",
    "\n",
    "# supply\n",
    "s1 = 30\n",
    "s2 = 20\n",
    "\n",
    "# quality\n",
    "c1 = 0.8\n",
    "c2 = 0.5\n",
    "\n",
    "# distance\n",
    "d11 = 5\n",
    "d12 = 2\n",
    "d21 = 4\n",
    "d22 = 1\n",
    "d31 = 3\n",
    "d32 = 2\n",
    "\n",
    "# gaussian weights\n",
    "w11 = gaussian_decay(d11)\n",
    "w12 = gaussian_decay(d12)\n",
    "w21 = gaussian_decay(d21)\n",
    "w22 = gaussian_decay(d22)\n",
    "w31 = gaussian_decay(d31)\n",
    "w32 = gaussian_decay(d32)\n",
    "\n",
    "# sigma\n",
    "sigma = 5\n",
    "\n",
    "# Selection weight\n",
    "g11 = (w11 * c1)/(w11 * c1 + w12 * c2)\n",
    "g12 = (w12 * c2)/(w11 * c1 + w12 * c2)\n",
    "g21 = (w21 * c1)/(w21 * c1 + w22 * c2)\n",
    "g22 = (w22 * c2)/(w21 * c1 + w22 * c2)\n",
    "g31 = (w31 * c1)/(w31 * c1 + w32 * c2)\n",
    "g32 = (w32 * c2)/(w31 * c1 + w32 * c2)\n",
    "\n",
    "# Weighted provider/demand ratio for each provider\n",
    "r1 = s1/((h1 * w11 * g11) + (h2 * w21 * g21) + (h3 * w31 * g31))\n",
    "r2 = s2/((h1 * w12 * g12) + (h2 * w22 * g22) + (h3 * w32 * g32))\n",
    "\n",
    "# accessibility between each provider and demand\n",
    "a11 = r1 * w11 * g11\n",
    "a12 = r2 * w12 * g12\n",
    "a21 = r1 * w21 * g21\n",
    "a22 = r2 * w22 * g22\n",
    "a31 = r1 * w31 * g31\n",
    "a32 = r2 * w32 * g32\n",
    "\n",
    "# Weighted provider/demand ratio for each demand point\n",
    "A1 = a11 + a12\n",
    "A2 = a21 + a22\n",
    "A3 = a31 + a32\n",
    "\n",
    "# Average quality for each demand point\n",
    "Q1 = (a11 * c1 + a12 * c2)/(a11 + a12)\n",
    "Q2 = (a21 * c1 + a22 * c2)/(a21 + a22)\n",
    "Q3 = (a31 * c1 + a32 * c2)/(a31 + a32)\n",
    "\n",
    "\n",
    "print(f\"Accessibility values: \\nA1: {A1}, A2: {A2}, A3: {A3}\")\n",
    "print(f\"Quality values: \\nQ1: {Q1}, Q2: {Q2}, Q3: {Q3}\")"
   ]
  },
  {
   "cell_type": "markdown",
   "metadata": {},
   "source": [
    "#### Calculating using the module"
   ]
  },
  {
   "cell_type": "code",
   "execution_count": 56,
   "metadata": {},
   "outputs": [],
   "source": [
    "supply_df = pd.DataFrame({'index': [1,2], 'supply': [s1, s2]})\n",
    "demand_df = pd.DataFrame({'index': [1,2,3], 'demand': [h1, h2, h3]})\n",
    "cost_df = pd.DataFrame({'origin': [1,1,2,2,3,3], 'dest': [1,2,1,2,1,2], 'cost': [d11, d12, d21, d22, d31, d32], 'quality': [c1, c2, c1, c2, c1, c2]})"
   ]
  },
  {
   "cell_type": "code",
   "execution_count": 58,
   "metadata": {},
   "outputs": [],
   "source": [
    "A = Access(\n",
    "    demand_df=demand_df,\n",
    "    demand_index=\"index\",\n",
    "    demand_value=\"demand\",\n",
    "    supply_df=supply_df,\n",
    "    supply_index=\"index\",\n",
    "    supply_value=[\"supply\"],\n",
    "    cost_df=cost_df,\n",
    "    cost_origin=\"origin\",\n",
    "    cost_dest=\"dest\",\n",
    "    cost_name=\"cost\"\n",
    ")"
   ]
  },
  {
   "cell_type": "code",
   "execution_count": 59,
   "metadata": {},
   "outputs": [
    {
     "data": {
      "text/html": [
       "<div>\n",
       "<style scoped>\n",
       "    .dataframe tbody tr th:only-of-type {\n",
       "        vertical-align: middle;\n",
       "    }\n",
       "\n",
       "    .dataframe tbody tr th {\n",
       "        vertical-align: top;\n",
       "    }\n",
       "\n",
       "    .dataframe thead th {\n",
       "        text-align: right;\n",
       "    }\n",
       "</style>\n",
       "<table border=\"1\" class=\"dataframe\">\n",
       "  <thead>\n",
       "    <tr style=\"text-align: right;\">\n",
       "      <th></th>\n",
       "      <th>demand</th>\n",
       "      <th>mod_3sfca_supply</th>\n",
       "      <th>Q_supply</th>\n",
       "      <th>3sfca_supply</th>\n",
       "    </tr>\n",
       "    <tr>\n",
       "      <th>index</th>\n",
       "      <th></th>\n",
       "      <th></th>\n",
       "      <th></th>\n",
       "      <th></th>\n",
       "    </tr>\n",
       "  </thead>\n",
       "  <tbody>\n",
       "    <tr>\n",
       "      <th>1</th>\n",
       "      <td>30</td>\n",
       "      <td>0.764113</td>\n",
       "      <td>0.665347</td>\n",
       "      <td>0.755015</td>\n",
       "    </tr>\n",
       "    <tr>\n",
       "      <th>2</th>\n",
       "      <td>20</td>\n",
       "      <td>0.875458</td>\n",
       "      <td>0.682859</td>\n",
       "      <td>0.877047</td>\n",
       "    </tr>\n",
       "    <tr>\n",
       "      <th>3</th>\n",
       "      <td>10</td>\n",
       "      <td>0.956744</td>\n",
       "      <td>0.709877</td>\n",
       "      <td>0.980860</td>\n",
       "    </tr>\n",
       "  </tbody>\n",
       "</table>\n",
       "</div>"
      ],
      "text/plain": [
       "       demand  mod_3sfca_supply  Q_supply  3sfca_supply\n",
       "index                                                  \n",
       "1          30          0.764113  0.665347      0.755015\n",
       "2          20          0.875458  0.682859      0.877047\n",
       "3          10          0.956744  0.709877      0.980860"
      ]
     },
     "execution_count": 59,
     "metadata": {},
     "output_type": "execute_result"
    }
   ],
   "source": [
    "gaussian = weights.gaussian(5)   \n",
    "\n",
    "# Access metrics to calculate\n",
    "A.mod_three_stage_fca(name = \"mod_3sfca\", quality_name = 'Q', quality='quality', weight_fn=gaussian, cost = \"cost\")\n",
    "A.three_stage_fca(name = \"3sfca\", weight_fn=gaussian, cost = \"cost\",)\n",
    "A.access_df"
   ]
  },
  {
   "cell_type": "markdown",
   "metadata": {},
   "source": [
    "Same results!!"
   ]
  },
  {
   "cell_type": "code",
   "execution_count": null,
   "metadata": {},
   "outputs": [],
   "source": []
  }
 ],
 "metadata": {
  "kernelspec": {
   "display_name": "Python 3.10.4 ('cap_env')",
   "language": "python",
   "name": "python3"
  },
  "language_info": {
   "codemirror_mode": {
    "name": "ipython",
    "version": 3
   },
   "file_extension": ".py",
   "mimetype": "text/x-python",
   "name": "python",
   "nbconvert_exporter": "python",
   "pygments_lexer": "ipython3",
   "version": "3.10.4"
  },
  "orig_nbformat": 4,
  "vscode": {
   "interpreter": {
    "hash": "998f53a967595206ca2b0fe694f898506950a27042b510ab2e2e2930595cb248"
   }
  }
 },
 "nbformat": 4,
 "nbformat_minor": 2
}
