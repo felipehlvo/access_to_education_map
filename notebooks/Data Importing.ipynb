{
 "cells": [
  {
   "cell_type": "markdown",
   "id": "14d6760f",
   "metadata": {},
   "source": [
    "This notebook downloads the Demographic Census from Base dos Dados, a non-profit organization that stores pre-cleaned government data. The code uses their library, which is simply performing querying from Google BigQuery, where the data is stored. \n",
    "\n",
    "A description of the data can be found at \n",
    "- Demographic Census:https://basedosdados.org/dataset/br-ibge-censo-demografico \n",
    "- Geolocation Data: https://basedosdados.org/dataset/br-geobr-mapas?bdm_table=setor_censitario_2010\n",
    "- IDEB: https://basedosdados.org/dataset/br-inep-ideb?bdm_table=escola\n",
    "\n",
    "\n",
    "The original census data can be downloaded from https://ftp.ibge.gov.br/Censos/Censo_Demografico_2010/Resultados_do_Universo/Agregados_por_Setores_Censitarios/"
   ]
  },
  {
   "cell_type": "markdown",
   "id": "4824f167",
   "metadata": {},
   "source": [
    "# Demographic Census"
   ]
  },
  {
   "cell_type": "code",
   "execution_count": 2,
   "id": "8fd1cb3f",
   "metadata": {},
   "outputs": [],
   "source": [
    "import basedosdados as bd"
   ]
  },
  {
   "cell_type": "code",
   "execution_count": 2,
   "id": "16c6972b",
   "metadata": {},
   "outputs": [
    {
     "data": {
      "text/plain": [
       "['setor_censitario_basico_2010',\n",
       " 'setor_censitario_alfabetizacao_homens_mulheres_2010',\n",
       " 'setor_censitario_alfabetizacao_total_2010',\n",
       " 'setor_censitario_domicilio_caracteristicas_gerais_2010',\n",
       " 'setor_censitario_domicilio_moradores_2010',\n",
       " 'setor_censitario_domicilio_renda_2010',\n",
       " 'setor_censitario_entorno_2010',\n",
       " 'setor_censitario_idade_homens_2010',\n",
       " 'setor_censitario_idade_mulheres_2010',\n",
       " 'setor_censitario_idade_total_2010',\n",
       " 'setor_censitario_pessoa_renda_2010',\n",
       " 'setor_censitario_raca_alfabetizacao_idade_genero_2010',\n",
       " 'setor_censitario_raca_idade_genero_2010',\n",
       " 'setor_censitario_registro_civil_2010',\n",
       " 'setor_censitario_relacao_parentesco_conjuges_2010',\n",
       " 'setor_censitario_relacao_parentesco_filhos_2010',\n",
       " 'setor_censitario_relacao_parentesco_filhos_enteados_2010',\n",
       " 'setor_censitario_relacao_parentesco_outros_2010',\n",
       " 'setor_censitario_responsavel_domicilios_homens_total_2010',\n",
       " 'setor_censitario_responsavel_domicilios_mulheres_2010',\n",
       " 'setor_censitario_responsavel_renda_2010',\n",
       " 'setor_censitario_raca_idade_0_4_genero_2010']"
      ]
     },
     "execution_count": 2,
     "metadata": {},
     "output_type": "execute_result"
    }
   ],
   "source": [
    "# Tables that are stored by Base dos Dados \n",
    "# https://basedosdados.org/dataset/br-ibge-censo-demografico\n",
    "tables = \"setor_censitario_basico_2010 setor_censitario_alfabetizacao_homens_mulheres_2010 setor_censitario_alfabetizacao_total_2010 setor_censitario_domicilio_caracteristicas_gerais_2010 setor_censitario_domicilio_moradores_2010 setor_censitario_domicilio_renda_2010 setor_censitario_entorno_2010 setor_censitario_idade_homens_2010 setor_censitario_idade_mulheres_2010 setor_censitario_idade_total_2010 setor_censitario_pessoa_renda_2010 setor_censitario_raca_alfabetizacao_idade_genero_2010 setor_censitario_raca_idade_genero_2010 setor_censitario_registro_civil_2010 setor_censitario_relacao_parentesco_conjuges_2010 setor_censitario_relacao_parentesco_filhos_2010 setor_censitario_relacao_parentesco_filhos_enteados_2010 setor_censitario_relacao_parentesco_outros_2010 setor_censitario_responsavel_domicilios_homens_total_2010 setor_censitario_responsavel_domicilios_mulheres_2010 setor_censitario_responsavel_renda_2010 setor_censitario_raca_idade_0_4_genero_2010\".split()\n",
    "\n",
    "\n",
    "tables"
   ]
  },
  {
   "cell_type": "code",
   "execution_count": 4,
   "id": "5b4169b4",
   "metadata": {},
   "outputs": [
    {
     "name": "stdout",
     "output_type": "stream",
     "text": [
      "Downloading setor_censitario_basico_2010\n",
      "Done, moving on\n",
      "Downloading setor_censitario_alfabetizacao_homens_mulheres_2010\n",
      "Done, moving on\n",
      "Downloading setor_censitario_alfabetizacao_total_2010\n",
      "Done, moving on\n",
      "Downloading setor_censitario_domicilio_caracteristicas_gerais_2010\n",
      "Done, moving on\n",
      "Downloading setor_censitario_domicilio_moradores_2010\n",
      "Done, moving on\n",
      "Downloading setor_censitario_domicilio_renda_2010\n",
      "Done, moving on\n",
      "Downloading setor_censitario_entorno_2010\n",
      "Done, moving on\n",
      "Downloading setor_censitario_idade_homens_2010\n",
      "Done, moving on\n",
      "Downloading setor_censitario_idade_mulheres_2010\n",
      "Done, moving on\n",
      "Downloading setor_censitario_idade_total_2010\n",
      "Done, moving on\n",
      "Downloading setor_censitario_pessoa_renda_2010\n",
      "Done, moving on\n",
      "Downloading setor_censitario_raca_alfabetizacao_idade_genero_2010\n",
      "Done, moving on\n",
      "Downloading setor_censitario_raca_idade_genero_2010\n",
      "Done, moving on\n",
      "Downloading setor_censitario_registro_civil_2010\n",
      "Done, moving on\n",
      "Downloading setor_censitario_relacao_parentesco_conjuges_2010\n",
      "Done, moving on\n",
      "Downloading setor_censitario_relacao_parentesco_filhos_2010\n",
      "Done, moving on\n",
      "Downloading setor_censitario_relacao_parentesco_filhos_enteados_2010\n",
      "Done, moving on\n",
      "Downloading setor_censitario_relacao_parentesco_outros_2010\n",
      "Done, moving on\n",
      "Downloading setor_censitario_responsavel_domicilios_homens_total_2010\n",
      "Done, moving on\n",
      "Downloading setor_censitario_responsavel_domicilios_mulheres_2010\n",
      "Done, moving on\n",
      "Downloading setor_censitario_responsavel_renda_2010\n",
      "Done, moving on\n",
      "Downloading setor_censitario_raca_idade_0_4_genero_2010\n",
      "Done, moving on\n",
      "DONE!\n"
     ]
    }
   ],
   "source": [
    "# Download all of the tables using Google BigQuery\n",
    "for table in tables:\n",
    "    query = f\"\"\"\n",
    "    SELECT *\n",
    "    FROM basedosdados.br_ibge_censo_demografico.{table}\n",
    "    \"\"\"\n",
    "\n",
    "    print(\"Downloading\", table)\n",
    "\n",
    "    bd.download(\n",
    "    f\"/Users/feliphlvo/Documents/Minerva/Capstone/data/Base dos Dados/{table}.csv\",\n",
    "    query=query,\n",
    "    dataset_id=\"br_ibge_censo_demografico\",\n",
    "    table_id=table,\n",
    "    billing_project_id=\"base-dos-dados-363119\",\n",
    "    query_project_id=\"basedosdados\",\n",
    "    )\n",
    "\n",
    "    print(\"Done, moving on\")\n",
    "    \n",
    "print(\"DONE!\")\n",
    "    "
   ]
  },
  {
   "cell_type": "markdown",
   "id": "c9f0155c",
   "metadata": {},
   "source": [
    "# Geolocation Data"
   ]
  },
  {
   "cell_type": "code",
   "execution_count": 3,
   "id": "bfc5bab3",
   "metadata": {},
   "outputs": [],
   "source": [
    "# Downloading geolocation data\n",
    "bd.download(\n",
    "    f\"/Users/feliphlvo/Documents/Minerva/Capstone/data/Base dos Dados/geobr_setor_censitario_2010.csv\",\n",
    "    query=\"SELECT * FROM basedosdados.br_geobr_mapas.setor_censitario_2010\",\n",
    "    dataset_id=\"br_geobr_mapas\",\n",
    "    table_id=\"setor_censitario_2010\",\n",
    "    billing_project_id=\"base-dos-dados-363119\",\n",
    "    query_project_id=\"basedosdados\",\n",
    "    )"
   ]
  },
  {
   "cell_type": "code",
   "execution_count": 8,
   "id": "809278e4",
   "metadata": {},
   "outputs": [
    {
     "ename": "NotFound",
     "evalue": "404 GET https://storage.googleapis.com/storage/v1/b/635b3ede93db8d16d4a91128524c257cbbbf9ba7298046267882795009?projection=noAcl&prettyPrint=false: The specified bucket does not exist.",
     "output_type": "error",
     "traceback": [
      "\u001b[0;31m---------------------------------------------------------------------------\u001b[0m",
      "\u001b[0;31mForbidden\u001b[0m                                 Traceback (most recent call last)",
      "File \u001b[0;32m~/opt/anaconda3/envs/cap_env/lib/python3.10/site-packages/basedosdados/download/download.py:316\u001b[0m, in \u001b[0;36m_direct_download\u001b[0;34m(client, dataset_id, table_id, savepath, project_id, compression, extract)\u001b[0m\n\u001b[1;32m    314\u001b[0m \u001b[39mtry\u001b[39;00m:\n\u001b[1;32m    315\u001b[0m     \u001b[39m# create temporary bucket\u001b[39;00m\n\u001b[0;32m--> 316\u001b[0m     _create_bucket(client, tmp_bucket_name)\n\u001b[1;32m    318\u001b[0m     \u001b[39m# move table to temporary file inside temporary bucket\u001b[39;00m\n",
      "File \u001b[0;32m~/opt/anaconda3/envs/cap_env/lib/python3.10/site-packages/basedosdados/download/download.py:377\u001b[0m, in \u001b[0;36m_create_bucket\u001b[0;34m(client, bucket_name)\u001b[0m\n\u001b[1;32m    375\u001b[0m bucket\u001b[39m.\u001b[39mstorage_class \u001b[39m=\u001b[39m \u001b[39m\"\u001b[39m\u001b[39mSTANDARD\u001b[39m\u001b[39m\"\u001b[39m\n\u001b[0;32m--> 377\u001b[0m storage_client\u001b[39m.\u001b[39;49mcreate_bucket(bucket, location\u001b[39m=\u001b[39;49m\u001b[39m\"\u001b[39;49m\u001b[39mUS\u001b[39;49m\u001b[39m\"\u001b[39;49m)\n",
      "File \u001b[0;32m~/opt/anaconda3/envs/cap_env/lib/python3.10/site-packages/google/cloud/storage/client.py:956\u001b[0m, in \u001b[0;36mClient.create_bucket\u001b[0;34m(self, bucket_or_name, requester_pays, project, user_project, location, predefined_acl, predefined_default_object_acl, timeout, retry)\u001b[0m\n\u001b[1;32m    954\u001b[0m     properties[\u001b[39m\"\u001b[39m\u001b[39mlocation\u001b[39m\u001b[39m\"\u001b[39m] \u001b[39m=\u001b[39m location\n\u001b[0;32m--> 956\u001b[0m api_response \u001b[39m=\u001b[39m \u001b[39mself\u001b[39;49m\u001b[39m.\u001b[39;49m_post_resource(\n\u001b[1;32m    957\u001b[0m     \u001b[39m\"\u001b[39;49m\u001b[39m/b\u001b[39;49m\u001b[39m\"\u001b[39;49m,\n\u001b[1;32m    958\u001b[0m     properties,\n\u001b[1;32m    959\u001b[0m     query_params\u001b[39m=\u001b[39;49mquery_params,\n\u001b[1;32m    960\u001b[0m     timeout\u001b[39m=\u001b[39;49mtimeout,\n\u001b[1;32m    961\u001b[0m     retry\u001b[39m=\u001b[39;49mretry,\n\u001b[1;32m    962\u001b[0m     _target_object\u001b[39m=\u001b[39;49mbucket,\n\u001b[1;32m    963\u001b[0m )\n\u001b[1;32m    965\u001b[0m bucket\u001b[39m.\u001b[39m_set_properties(api_response)\n",
      "File \u001b[0;32m~/opt/anaconda3/envs/cap_env/lib/python3.10/site-packages/google/cloud/storage/client.py:588\u001b[0m, in \u001b[0;36mClient._post_resource\u001b[0;34m(self, path, data, query_params, headers, timeout, retry, _target_object)\u001b[0m\n\u001b[1;32m    538\u001b[0m \u001b[39m\"\"\"Helper for bucket / blob methods making API 'POST' calls.\u001b[39;00m\n\u001b[1;32m    539\u001b[0m \n\u001b[1;32m    540\u001b[0m \u001b[39mArgs:\u001b[39;00m\n\u001b[0;32m   (...)\u001b[0m\n\u001b[1;32m    586\u001b[0m \u001b[39m        If the bucket is not found.\u001b[39;00m\n\u001b[1;32m    587\u001b[0m \u001b[39m\"\"\"\u001b[39;00m\n\u001b[0;32m--> 588\u001b[0m \u001b[39mreturn\u001b[39;00m \u001b[39mself\u001b[39;49m\u001b[39m.\u001b[39;49m_connection\u001b[39m.\u001b[39;49mapi_request(\n\u001b[1;32m    589\u001b[0m     method\u001b[39m=\u001b[39;49m\u001b[39m\"\u001b[39;49m\u001b[39mPOST\u001b[39;49m\u001b[39m\"\u001b[39;49m,\n\u001b[1;32m    590\u001b[0m     path\u001b[39m=\u001b[39;49mpath,\n\u001b[1;32m    591\u001b[0m     data\u001b[39m=\u001b[39;49mdata,\n\u001b[1;32m    592\u001b[0m     query_params\u001b[39m=\u001b[39;49mquery_params,\n\u001b[1;32m    593\u001b[0m     headers\u001b[39m=\u001b[39;49mheaders,\n\u001b[1;32m    594\u001b[0m     timeout\u001b[39m=\u001b[39;49mtimeout,\n\u001b[1;32m    595\u001b[0m     retry\u001b[39m=\u001b[39;49mretry,\n\u001b[1;32m    596\u001b[0m     _target_object\u001b[39m=\u001b[39;49m_target_object,\n\u001b[1;32m    597\u001b[0m )\n",
      "File \u001b[0;32m~/opt/anaconda3/envs/cap_env/lib/python3.10/site-packages/google/cloud/storage/_http.py:80\u001b[0m, in \u001b[0;36mConnection.api_request\u001b[0;34m(self, *args, **kwargs)\u001b[0m\n\u001b[1;32m     79\u001b[0m         call \u001b[39m=\u001b[39m retry(call)\n\u001b[0;32m---> 80\u001b[0m \u001b[39mreturn\u001b[39;00m call()\n",
      "File \u001b[0;32m~/opt/anaconda3/envs/cap_env/lib/python3.10/site-packages/google/api_core/retry.py:283\u001b[0m, in \u001b[0;36mRetry.__call__.<locals>.retry_wrapped_func\u001b[0;34m(*args, **kwargs)\u001b[0m\n\u001b[1;32m    280\u001b[0m sleep_generator \u001b[39m=\u001b[39m exponential_sleep_generator(\n\u001b[1;32m    281\u001b[0m     \u001b[39mself\u001b[39m\u001b[39m.\u001b[39m_initial, \u001b[39mself\u001b[39m\u001b[39m.\u001b[39m_maximum, multiplier\u001b[39m=\u001b[39m\u001b[39mself\u001b[39m\u001b[39m.\u001b[39m_multiplier\n\u001b[1;32m    282\u001b[0m )\n\u001b[0;32m--> 283\u001b[0m \u001b[39mreturn\u001b[39;00m retry_target(\n\u001b[1;32m    284\u001b[0m     target,\n\u001b[1;32m    285\u001b[0m     \u001b[39mself\u001b[39;49m\u001b[39m.\u001b[39;49m_predicate,\n\u001b[1;32m    286\u001b[0m     sleep_generator,\n\u001b[1;32m    287\u001b[0m     \u001b[39mself\u001b[39;49m\u001b[39m.\u001b[39;49m_deadline,\n\u001b[1;32m    288\u001b[0m     on_error\u001b[39m=\u001b[39;49mon_error,\n\u001b[1;32m    289\u001b[0m )\n",
      "File \u001b[0;32m~/opt/anaconda3/envs/cap_env/lib/python3.10/site-packages/google/api_core/retry.py:190\u001b[0m, in \u001b[0;36mretry_target\u001b[0;34m(target, predicate, sleep_generator, deadline, on_error)\u001b[0m\n\u001b[1;32m    189\u001b[0m \u001b[39mtry\u001b[39;00m:\n\u001b[0;32m--> 190\u001b[0m     \u001b[39mreturn\u001b[39;00m target()\n\u001b[1;32m    192\u001b[0m \u001b[39m# pylint: disable=broad-except\u001b[39;00m\n\u001b[1;32m    193\u001b[0m \u001b[39m# This function explicitly must deal with broad exceptions.\u001b[39;00m\n",
      "File \u001b[0;32m~/opt/anaconda3/envs/cap_env/lib/python3.10/site-packages/google/cloud/_http/__init__.py:494\u001b[0m, in \u001b[0;36mJSONConnection.api_request\u001b[0;34m(self, method, path, query_params, data, content_type, headers, api_base_url, api_version, expect_json, _target_object, timeout, extra_api_info)\u001b[0m\n\u001b[1;32m    493\u001b[0m \u001b[39mif\u001b[39;00m \u001b[39mnot\u001b[39;00m \u001b[39m200\u001b[39m \u001b[39m<\u001b[39m\u001b[39m=\u001b[39m response\u001b[39m.\u001b[39mstatus_code \u001b[39m<\u001b[39m \u001b[39m300\u001b[39m:\n\u001b[0;32m--> 494\u001b[0m     \u001b[39mraise\u001b[39;00m exceptions\u001b[39m.\u001b[39mfrom_http_response(response)\n\u001b[1;32m    496\u001b[0m \u001b[39mif\u001b[39;00m expect_json \u001b[39mand\u001b[39;00m response\u001b[39m.\u001b[39mcontent:\n",
      "\u001b[0;31mForbidden\u001b[0m: 403 POST https://storage.googleapis.com/storage/v1/b?project=base-dos-dados-363119&prettyPrint=false: The billing account for the owning project is disabled in state closed",
      "\nThe above exception was the direct cause of the following exception:\n",
      "\u001b[0;31mException\u001b[0m                                 Traceback (most recent call last)",
      "File \u001b[0;32m~/opt/anaconda3/envs/cap_env/lib/python3.10/site-packages/basedosdados/download/download.py:333\u001b[0m, in \u001b[0;36m_direct_download\u001b[0;34m(client, dataset_id, table_id, savepath, project_id, compression, extract)\u001b[0m\n\u001b[1;32m    331\u001b[0m \u001b[39mexcept\u001b[39;00m \u001b[39mException\u001b[39;00m \u001b[39mas\u001b[39;00m err:\n\u001b[1;32m    332\u001b[0m     \u001b[39m# TODO handle exceptions for 404 (not found), 403 (forbidden)\u001b[39;00m\n\u001b[0;32m--> 333\u001b[0m     \u001b[39mraise\u001b[39;00m \u001b[39mException\u001b[39;00m(err) \u001b[39mfrom\u001b[39;00m \u001b[39merr\u001b[39;00m\n\u001b[1;32m    334\u001b[0m \u001b[39mfinally\u001b[39;00m:\n\u001b[1;32m    335\u001b[0m     \u001b[39m# delete temporary bucket (even in the case of crashing)\u001b[39;00m\n",
      "\u001b[0;31mException\u001b[0m: 403 POST https://storage.googleapis.com/storage/v1/b?project=base-dos-dados-363119&prettyPrint=false: The billing account for the owning project is disabled in state closed",
      "\nDuring handling of the above exception, another exception occurred:\n",
      "\u001b[0;31mNotFound\u001b[0m                                  Traceback (most recent call last)",
      "Cell \u001b[0;32mIn [8], line 1\u001b[0m\n\u001b[0;32m----> 1\u001b[0m \u001b[43mbd\u001b[49m\u001b[38;5;241;43m.\u001b[39;49m\u001b[43mdownload\u001b[49m\u001b[43m(\u001b[49m\n\u001b[1;32m      2\u001b[0m \u001b[43m    \u001b[49m\u001b[38;5;124;43mf\u001b[39;49m\u001b[38;5;124;43m\"\u001b[39;49m\u001b[38;5;124;43m/Users/feliphlvo/Documents/Minerva/Capstone/data/Base dos Dados/geobr_escola_2020.csv\u001b[39;49m\u001b[38;5;124;43m\"\u001b[39;49m\u001b[43m,\u001b[49m\n\u001b[1;32m      3\u001b[0m \u001b[43m    \u001b[49m\u001b[43mquery\u001b[49m\u001b[38;5;241;43m=\u001b[39;49m\u001b[38;5;124;43m\"\u001b[39;49m\u001b[38;5;124;43mSELECT * FROM basedosdados.br_geobr_mapas.escola\u001b[39;49m\u001b[38;5;124;43m\"\u001b[39;49m\u001b[43m,\u001b[49m\n\u001b[1;32m      4\u001b[0m \u001b[43m    \u001b[49m\u001b[43mdataset_id\u001b[49m\u001b[38;5;241;43m=\u001b[39;49m\u001b[38;5;124;43m\"\u001b[39;49m\u001b[38;5;124;43mbr_geobr_mapas\u001b[39;49m\u001b[38;5;124;43m\"\u001b[39;49m\u001b[43m,\u001b[49m\n\u001b[1;32m      5\u001b[0m \u001b[43m    \u001b[49m\u001b[43mtable_id\u001b[49m\u001b[38;5;241;43m=\u001b[39;49m\u001b[38;5;124;43m\"\u001b[39;49m\u001b[38;5;124;43mescola\u001b[39;49m\u001b[38;5;124;43m\"\u001b[39;49m\u001b[43m,\u001b[49m\n\u001b[1;32m      6\u001b[0m \u001b[43m    \u001b[49m\u001b[43mbilling_project_id\u001b[49m\u001b[38;5;241;43m=\u001b[39;49m\u001b[38;5;124;43m\"\u001b[39;49m\u001b[38;5;124;43mbase-dos-dados-363119\u001b[39;49m\u001b[38;5;124;43m\"\u001b[39;49m\u001b[43m,\u001b[49m\n\u001b[1;32m      7\u001b[0m \u001b[43m    \u001b[49m\u001b[43mquery_project_id\u001b[49m\u001b[38;5;241;43m=\u001b[39;49m\u001b[38;5;124;43m\"\u001b[39;49m\u001b[38;5;124;43mbasedosdados\u001b[39;49m\u001b[38;5;124;43m\"\u001b[39;49m\u001b[43m,\u001b[49m\n\u001b[1;32m      8\u001b[0m \u001b[43m    \u001b[49m\u001b[43m)\u001b[49m\n",
      "File \u001b[0;32m~/opt/anaconda3/envs/cap_env/lib/python3.10/site-packages/basedosdados/download/download.py:268\u001b[0m, in \u001b[0;36mdownload\u001b[0;34m(savepath, query, dataset_id, table_id, billing_project_id, query_project_id, limit, from_file, reauth, compression)\u001b[0m\n\u001b[1;32m    265\u001b[0m     dataset_id \u001b[39m=\u001b[39m dest_table[\u001b[39m\"\u001b[39m\u001b[39mdatasetId\u001b[39m\u001b[39m\"\u001b[39m]\n\u001b[1;32m    266\u001b[0m     table_id \u001b[39m=\u001b[39m dest_table[\u001b[39m\"\u001b[39m\u001b[39mtableId\u001b[39m\u001b[39m\"\u001b[39m]\n\u001b[0;32m--> 268\u001b[0m _direct_download(client, dataset_id, table_id, savepath, project_id, compression)\n",
      "File \u001b[0;32m~/opt/anaconda3/envs/cap_env/lib/python3.10/site-packages/basedosdados/download/download.py:336\u001b[0m, in \u001b[0;36m_direct_download\u001b[0;34m(client, dataset_id, table_id, savepath, project_id, compression, extract)\u001b[0m\n\u001b[1;32m    333\u001b[0m     \u001b[39mraise\u001b[39;00m \u001b[39mException\u001b[39;00m(err) \u001b[39mfrom\u001b[39;00m \u001b[39merr\u001b[39;00m\n\u001b[1;32m    334\u001b[0m \u001b[39mfinally\u001b[39;00m:\n\u001b[1;32m    335\u001b[0m     \u001b[39m# delete temporary bucket (even in the case of crashing)\u001b[39;00m\n\u001b[0;32m--> 336\u001b[0m     _delete_bucket(client, tmp_bucket_name)\n\u001b[1;32m    337\u001b[0m     \u001b[39m# delete temporary savepath\u001b[39;00m\n\u001b[1;32m    338\u001b[0m     shutil\u001b[39m.\u001b[39mrmtree(tmp_savepath)\n",
      "File \u001b[0;32m~/opt/anaconda3/envs/cap_env/lib/python3.10/site-packages/basedosdados/download/download.py:393\u001b[0m, in \u001b[0;36m_delete_bucket\u001b[0;34m(client, bucket_name)\u001b[0m\n\u001b[1;32m    390\u001b[0m MAX_BLOBS \u001b[39m=\u001b[39m \u001b[39m256\u001b[39m\n\u001b[1;32m    392\u001b[0m storage_client \u001b[39m=\u001b[39m client[\u001b[39m\"\u001b[39m\u001b[39mstorage\u001b[39m\u001b[39m\"\u001b[39m]\n\u001b[0;32m--> 393\u001b[0m bucket \u001b[39m=\u001b[39m storage_client\u001b[39m.\u001b[39;49mget_bucket(bucket_name)\n\u001b[1;32m    395\u001b[0m \u001b[39m# NOTE: force=True implementation will not delete\u001b[39;00m\n\u001b[1;32m    396\u001b[0m \u001b[39m# the temporary bucket if n_blobs >= 256\u001b[39;00m\n\u001b[1;32m    397\u001b[0m n_blobs \u001b[39m=\u001b[39m \u001b[39mlen\u001b[39m(\u001b[39mlist\u001b[39m(storage_client\u001b[39m.\u001b[39mlist_blobs(bucket_name)))\n",
      "File \u001b[0;32m~/opt/anaconda3/envs/cap_env/lib/python3.10/site-packages/google/cloud/storage/client.py:765\u001b[0m, in \u001b[0;36mClient.get_bucket\u001b[0;34m(self, bucket_or_name, timeout, if_metageneration_match, if_metageneration_not_match, retry)\u001b[0m\n\u001b[1;32m    695\u001b[0m \u001b[39m\"\"\"API call: retrieve a bucket via a GET request.\u001b[39;00m\n\u001b[1;32m    696\u001b[0m \n\u001b[1;32m    697\u001b[0m \u001b[39mSee\u001b[39;00m\n\u001b[0;32m   (...)\u001b[0m\n\u001b[1;32m    762\u001b[0m \n\u001b[1;32m    763\u001b[0m \u001b[39m\"\"\"\u001b[39;00m\n\u001b[1;32m    764\u001b[0m bucket \u001b[39m=\u001b[39m \u001b[39mself\u001b[39m\u001b[39m.\u001b[39m_bucket_arg_to_bucket(bucket_or_name)\n\u001b[0;32m--> 765\u001b[0m bucket\u001b[39m.\u001b[39;49mreload(\n\u001b[1;32m    766\u001b[0m     client\u001b[39m=\u001b[39;49m\u001b[39mself\u001b[39;49m,\n\u001b[1;32m    767\u001b[0m     timeout\u001b[39m=\u001b[39;49mtimeout,\n\u001b[1;32m    768\u001b[0m     if_metageneration_match\u001b[39m=\u001b[39;49mif_metageneration_match,\n\u001b[1;32m    769\u001b[0m     if_metageneration_not_match\u001b[39m=\u001b[39;49mif_metageneration_not_match,\n\u001b[1;32m    770\u001b[0m     retry\u001b[39m=\u001b[39;49mretry,\n\u001b[1;32m    771\u001b[0m )\n\u001b[1;32m    772\u001b[0m \u001b[39mreturn\u001b[39;00m bucket\n",
      "File \u001b[0;32m~/opt/anaconda3/envs/cap_env/lib/python3.10/site-packages/google/cloud/storage/bucket.py:1008\u001b[0m, in \u001b[0;36mBucket.reload\u001b[0;34m(self, client, projection, timeout, if_etag_match, if_etag_not_match, if_metageneration_match, if_metageneration_not_match, retry)\u001b[0m\n\u001b[1;32m    958\u001b[0m \u001b[39mdef\u001b[39;00m \u001b[39mreload\u001b[39m(\n\u001b[1;32m    959\u001b[0m     \u001b[39mself\u001b[39m,\n\u001b[1;32m    960\u001b[0m     client\u001b[39m=\u001b[39m\u001b[39mNone\u001b[39;00m,\n\u001b[0;32m   (...)\u001b[0m\n\u001b[1;32m    967\u001b[0m     retry\u001b[39m=\u001b[39mDEFAULT_RETRY,\n\u001b[1;32m    968\u001b[0m ):\n\u001b[1;32m    969\u001b[0m     \u001b[39m\"\"\"Reload properties from Cloud Storage.\u001b[39;00m\n\u001b[1;32m    970\u001b[0m \n\u001b[1;32m    971\u001b[0m \u001b[39m    If :attr:`user_project` is set, bills the API request to that project.\u001b[39;00m\n\u001b[0;32m   (...)\u001b[0m\n\u001b[1;32m   1006\u001b[0m \u001b[39m        (Optional) How to retry the RPC. See: :ref:`configuring_retries`\u001b[39;00m\n\u001b[1;32m   1007\u001b[0m \u001b[39m    \"\"\"\u001b[39;00m\n\u001b[0;32m-> 1008\u001b[0m     \u001b[39msuper\u001b[39;49m(Bucket, \u001b[39mself\u001b[39;49m)\u001b[39m.\u001b[39;49mreload(\n\u001b[1;32m   1009\u001b[0m         client\u001b[39m=\u001b[39;49mclient,\n\u001b[1;32m   1010\u001b[0m         projection\u001b[39m=\u001b[39;49mprojection,\n\u001b[1;32m   1011\u001b[0m         timeout\u001b[39m=\u001b[39;49mtimeout,\n\u001b[1;32m   1012\u001b[0m         if_etag_match\u001b[39m=\u001b[39;49mif_etag_match,\n\u001b[1;32m   1013\u001b[0m         if_etag_not_match\u001b[39m=\u001b[39;49mif_etag_not_match,\n\u001b[1;32m   1014\u001b[0m         if_metageneration_match\u001b[39m=\u001b[39;49mif_metageneration_match,\n\u001b[1;32m   1015\u001b[0m         if_metageneration_not_match\u001b[39m=\u001b[39;49mif_metageneration_not_match,\n\u001b[1;32m   1016\u001b[0m         retry\u001b[39m=\u001b[39;49mretry,\n\u001b[1;32m   1017\u001b[0m     )\n",
      "File \u001b[0;32m~/opt/anaconda3/envs/cap_env/lib/python3.10/site-packages/google/cloud/storage/_helpers.py:227\u001b[0m, in \u001b[0;36m_PropertyMixin.reload\u001b[0;34m(self, client, projection, if_etag_match, if_etag_not_match, if_generation_match, if_generation_not_match, if_metageneration_match, if_metageneration_not_match, timeout, retry)\u001b[0m\n\u001b[1;32m    223\u001b[0m headers \u001b[39m=\u001b[39m \u001b[39mself\u001b[39m\u001b[39m.\u001b[39m_encryption_headers()\n\u001b[1;32m    224\u001b[0m _add_etag_match_headers(\n\u001b[1;32m    225\u001b[0m     headers, if_etag_match\u001b[39m=\u001b[39mif_etag_match, if_etag_not_match\u001b[39m=\u001b[39mif_etag_not_match\n\u001b[1;32m    226\u001b[0m )\n\u001b[0;32m--> 227\u001b[0m api_response \u001b[39m=\u001b[39m client\u001b[39m.\u001b[39;49m_get_resource(\n\u001b[1;32m    228\u001b[0m     \u001b[39mself\u001b[39;49m\u001b[39m.\u001b[39;49mpath,\n\u001b[1;32m    229\u001b[0m     query_params\u001b[39m=\u001b[39;49mquery_params,\n\u001b[1;32m    230\u001b[0m     headers\u001b[39m=\u001b[39;49mheaders,\n\u001b[1;32m    231\u001b[0m     timeout\u001b[39m=\u001b[39;49mtimeout,\n\u001b[1;32m    232\u001b[0m     retry\u001b[39m=\u001b[39;49mretry,\n\u001b[1;32m    233\u001b[0m     _target_object\u001b[39m=\u001b[39;49m\u001b[39mself\u001b[39;49m,\n\u001b[1;32m    234\u001b[0m )\n\u001b[1;32m    235\u001b[0m \u001b[39mself\u001b[39m\u001b[39m.\u001b[39m_set_properties(api_response)\n",
      "File \u001b[0;32m~/opt/anaconda3/envs/cap_env/lib/python3.10/site-packages/google/cloud/storage/client.py:349\u001b[0m, in \u001b[0;36mClient._get_resource\u001b[0;34m(self, path, query_params, headers, timeout, retry, _target_object)\u001b[0m\n\u001b[1;32m    293\u001b[0m \u001b[39mdef\u001b[39;00m \u001b[39m_get_resource\u001b[39m(\n\u001b[1;32m    294\u001b[0m     \u001b[39mself\u001b[39m,\n\u001b[1;32m    295\u001b[0m     path,\n\u001b[0;32m   (...)\u001b[0m\n\u001b[1;32m    300\u001b[0m     _target_object\u001b[39m=\u001b[39m\u001b[39mNone\u001b[39;00m,\n\u001b[1;32m    301\u001b[0m ):\n\u001b[1;32m    302\u001b[0m     \u001b[39m\"\"\"Helper for bucket / blob methods making API 'GET' calls.\u001b[39;00m\n\u001b[1;32m    303\u001b[0m \n\u001b[1;32m    304\u001b[0m \u001b[39m    Args:\u001b[39;00m\n\u001b[0;32m   (...)\u001b[0m\n\u001b[1;32m    347\u001b[0m \u001b[39m            If the bucket is not found.\u001b[39;00m\n\u001b[1;32m    348\u001b[0m \u001b[39m    \"\"\"\u001b[39;00m\n\u001b[0;32m--> 349\u001b[0m     \u001b[39mreturn\u001b[39;00m \u001b[39mself\u001b[39;49m\u001b[39m.\u001b[39;49m_connection\u001b[39m.\u001b[39;49mapi_request(\n\u001b[1;32m    350\u001b[0m         method\u001b[39m=\u001b[39;49m\u001b[39m\"\u001b[39;49m\u001b[39mGET\u001b[39;49m\u001b[39m\"\u001b[39;49m,\n\u001b[1;32m    351\u001b[0m         path\u001b[39m=\u001b[39;49mpath,\n\u001b[1;32m    352\u001b[0m         query_params\u001b[39m=\u001b[39;49mquery_params,\n\u001b[1;32m    353\u001b[0m         headers\u001b[39m=\u001b[39;49mheaders,\n\u001b[1;32m    354\u001b[0m         timeout\u001b[39m=\u001b[39;49mtimeout,\n\u001b[1;32m    355\u001b[0m         retry\u001b[39m=\u001b[39;49mretry,\n\u001b[1;32m    356\u001b[0m         _target_object\u001b[39m=\u001b[39;49m_target_object,\n\u001b[1;32m    357\u001b[0m     )\n",
      "File \u001b[0;32m~/opt/anaconda3/envs/cap_env/lib/python3.10/site-packages/google/cloud/storage/_http.py:80\u001b[0m, in \u001b[0;36mConnection.api_request\u001b[0;34m(self, *args, **kwargs)\u001b[0m\n\u001b[1;32m     78\u001b[0m     \u001b[39mif\u001b[39;00m retry:\n\u001b[1;32m     79\u001b[0m         call \u001b[39m=\u001b[39m retry(call)\n\u001b[0;32m---> 80\u001b[0m \u001b[39mreturn\u001b[39;00m call()\n",
      "File \u001b[0;32m~/opt/anaconda3/envs/cap_env/lib/python3.10/site-packages/google/api_core/retry.py:283\u001b[0m, in \u001b[0;36mRetry.__call__.<locals>.retry_wrapped_func\u001b[0;34m(*args, **kwargs)\u001b[0m\n\u001b[1;32m    279\u001b[0m target \u001b[39m=\u001b[39m functools\u001b[39m.\u001b[39mpartial(func, \u001b[39m*\u001b[39margs, \u001b[39m*\u001b[39m\u001b[39m*\u001b[39mkwargs)\n\u001b[1;32m    280\u001b[0m sleep_generator \u001b[39m=\u001b[39m exponential_sleep_generator(\n\u001b[1;32m    281\u001b[0m     \u001b[39mself\u001b[39m\u001b[39m.\u001b[39m_initial, \u001b[39mself\u001b[39m\u001b[39m.\u001b[39m_maximum, multiplier\u001b[39m=\u001b[39m\u001b[39mself\u001b[39m\u001b[39m.\u001b[39m_multiplier\n\u001b[1;32m    282\u001b[0m )\n\u001b[0;32m--> 283\u001b[0m \u001b[39mreturn\u001b[39;00m retry_target(\n\u001b[1;32m    284\u001b[0m     target,\n\u001b[1;32m    285\u001b[0m     \u001b[39mself\u001b[39;49m\u001b[39m.\u001b[39;49m_predicate,\n\u001b[1;32m    286\u001b[0m     sleep_generator,\n\u001b[1;32m    287\u001b[0m     \u001b[39mself\u001b[39;49m\u001b[39m.\u001b[39;49m_deadline,\n\u001b[1;32m    288\u001b[0m     on_error\u001b[39m=\u001b[39;49mon_error,\n\u001b[1;32m    289\u001b[0m )\n",
      "File \u001b[0;32m~/opt/anaconda3/envs/cap_env/lib/python3.10/site-packages/google/api_core/retry.py:190\u001b[0m, in \u001b[0;36mretry_target\u001b[0;34m(target, predicate, sleep_generator, deadline, on_error)\u001b[0m\n\u001b[1;32m    188\u001b[0m \u001b[39mfor\u001b[39;00m sleep \u001b[39min\u001b[39;00m sleep_generator:\n\u001b[1;32m    189\u001b[0m     \u001b[39mtry\u001b[39;00m:\n\u001b[0;32m--> 190\u001b[0m         \u001b[39mreturn\u001b[39;00m target()\n\u001b[1;32m    192\u001b[0m     \u001b[39m# pylint: disable=broad-except\u001b[39;00m\n\u001b[1;32m    193\u001b[0m     \u001b[39m# This function explicitly must deal with broad exceptions.\u001b[39;00m\n\u001b[1;32m    194\u001b[0m     \u001b[39mexcept\u001b[39;00m \u001b[39mException\u001b[39;00m \u001b[39mas\u001b[39;00m exc:\n",
      "File \u001b[0;32m~/opt/anaconda3/envs/cap_env/lib/python3.10/site-packages/google/cloud/_http/__init__.py:494\u001b[0m, in \u001b[0;36mJSONConnection.api_request\u001b[0;34m(self, method, path, query_params, data, content_type, headers, api_base_url, api_version, expect_json, _target_object, timeout, extra_api_info)\u001b[0m\n\u001b[1;32m    482\u001b[0m response \u001b[39m=\u001b[39m \u001b[39mself\u001b[39m\u001b[39m.\u001b[39m_make_request(\n\u001b[1;32m    483\u001b[0m     method\u001b[39m=\u001b[39mmethod,\n\u001b[1;32m    484\u001b[0m     url\u001b[39m=\u001b[39murl,\n\u001b[0;32m   (...)\u001b[0m\n\u001b[1;32m    490\u001b[0m     extra_api_info\u001b[39m=\u001b[39mextra_api_info,\n\u001b[1;32m    491\u001b[0m )\n\u001b[1;32m    493\u001b[0m \u001b[39mif\u001b[39;00m \u001b[39mnot\u001b[39;00m \u001b[39m200\u001b[39m \u001b[39m<\u001b[39m\u001b[39m=\u001b[39m response\u001b[39m.\u001b[39mstatus_code \u001b[39m<\u001b[39m \u001b[39m300\u001b[39m:\n\u001b[0;32m--> 494\u001b[0m     \u001b[39mraise\u001b[39;00m exceptions\u001b[39m.\u001b[39mfrom_http_response(response)\n\u001b[1;32m    496\u001b[0m \u001b[39mif\u001b[39;00m expect_json \u001b[39mand\u001b[39;00m response\u001b[39m.\u001b[39mcontent:\n\u001b[1;32m    497\u001b[0m     \u001b[39mreturn\u001b[39;00m response\u001b[39m.\u001b[39mjson()\n",
      "\u001b[0;31mNotFound\u001b[0m: 404 GET https://storage.googleapis.com/storage/v1/b/635b3ede93db8d16d4a91128524c257cbbbf9ba7298046267882795009?projection=noAcl&prettyPrint=false: The specified bucket does not exist."
     ]
    }
   ],
   "source": [
    "bd.download(\n",
    "    f\"/Users/feliphlvo/Documents/Minerva/Capstone/data/Base dos Dados/geobr_escola_2020.csv\",\n",
    "    query=\"SELECT * FROM basedosdados.br_geobr_mapas.escola\",\n",
    "    dataset_id=\"br_geobr_mapas\",\n",
    "    table_id=\"escola\",\n",
    "    billing_project_id=\"base-dos-dados-363119\",\n",
    "    query_project_id=\"basedosdados\",\n",
    "    )"
   ]
  },
  {
   "cell_type": "markdown",
   "id": "e98773a4",
   "metadata": {},
   "source": [
    "# IDEB"
   ]
  },
  {
   "cell_type": "code",
   "execution_count": 19,
   "id": "3e7a5c04",
   "metadata": {},
   "outputs": [
    {
     "name": "stderr",
     "output_type": "stream",
     "text": [
      "Downloading: 100%|██████████| 20680/20680 [00:35<00:00, 586.19rows/s]\n"
     ]
    }
   ],
   "source": [
    "ideb_df = bd.read_sql(\n",
    "    query=\"\"\"\n",
    "    SELECT * FROM basedosdados.br_inep_ideb.escola \n",
    "    WHERE ano = 2019 \n",
    "    AND ensino = \"medio\"\n",
    "    \"\"\",\n",
    "    billing_project_id=\"base-dos-dados-363119\"\n",
    "    )"
   ]
  },
  {
   "cell_type": "code",
   "execution_count": 3,
   "id": "b0c8e133",
   "metadata": {},
   "outputs": [
    {
     "name": "stderr",
     "output_type": "stream",
     "text": [
      "Downloading: 100%|██████████| 11625/11625 [00:02<00:00, 5044.59rows/s]\n"
     ]
    }
   ],
   "source": [
    "ideb_city = bd.read_sql(\n",
    "    query=\"\"\"\n",
    "    SELECT * FROM basedosdados.br_inep_ideb.municipio \n",
    "    WHERE ano = 2019 \n",
    "    AND ensino = \"medio\"\n",
    "    \"\"\",\n",
    "    billing_project_id=\"base-dos-dados-363119\"\n",
    "    )"
   ]
  },
  {
   "cell_type": "code",
   "execution_count": 4,
   "id": "fabe60ec",
   "metadata": {},
   "outputs": [
    {
     "name": "stderr",
     "output_type": "stream",
     "text": [
      "Downloading: 100%|██████████| 81/81 [00:00<00:00, 227.70rows/s]\n"
     ]
    }
   ],
   "source": [
    "ideb_state = bd.read_sql(\n",
    "    query=\"\"\"\n",
    "    SELECT * FROM basedosdados.br_inep_ideb.uf \n",
    "    WHERE ano = 2019 \n",
    "    AND ensino = \"medio\"\n",
    "    \"\"\",\n",
    "    billing_project_id=\"base-dos-dados-363119\"\n",
    "    )"
   ]
  },
  {
   "cell_type": "code",
   "execution_count": 15,
   "id": "fe40884c",
   "metadata": {},
   "outputs": [],
   "source": [
    "import pandas as pd"
   ]
  },
  {
   "cell_type": "code",
   "execution_count": 5,
   "id": "8b9ef558",
   "metadata": {},
   "outputs": [],
   "source": [
    "\n",
    "ideb_df.to_csv(\"/Users/feliphlvo/Documents/Minerva/Capstone/data/Raw/Base dos Dados/ideb.csv\")\n",
    "ideb_city.to_csv(\"/Users/feliphlvo/Documents/Minerva/Capstone/data/Raw/Base dos Dados/ideb_city.csv\")\n",
    "ideb_state.to_csv(\"/Users/feliphlvo/Documents/Minerva/Capstone/data/Raw/Base dos Dados/ideb_state.csv\")"
   ]
  },
  {
   "cell_type": "code",
   "execution_count": null,
   "id": "32b056e8",
   "metadata": {},
   "outputs": [],
   "source": []
  }
 ],
 "metadata": {
  "kernelspec": {
   "display_name": "Python 3.10.4 ('cap_env')",
   "language": "python",
   "name": "python3"
  },
  "language_info": {
   "codemirror_mode": {
    "name": "ipython",
    "version": 3
   },
   "file_extension": ".py",
   "mimetype": "text/x-python",
   "name": "python",
   "nbconvert_exporter": "python",
   "pygments_lexer": "ipython3",
   "version": "3.10.4"
  },
  "vscode": {
   "interpreter": {
    "hash": "998f53a967595206ca2b0fe694f898506950a27042b510ab2e2e2930595cb248"
   }
  }
 },
 "nbformat": 4,
 "nbformat_minor": 5
}
