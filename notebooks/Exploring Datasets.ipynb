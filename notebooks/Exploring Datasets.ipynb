{
 "cells": [
  {
   "cell_type": "code",
   "execution_count": 3,
   "metadata": {},
   "outputs": [],
   "source": [
    "import pandas as pd\n",
    "import matplotlib.pyplot as plt\n",
    "import numpy as np\n"
   ]
  },
  {
   "cell_type": "code",
   "execution_count": 4,
   "metadata": {},
   "outputs": [],
   "source": [
    "school = pd.read_csv(\"/Users/feliphlvo/Documents/Minerva/Capstone/data/local/school_census.csv\",index_col=0)\n",
    "census = pd.read_csv(\"/Users/feliphlvo/Documents/Minerva/Capstone/data/local/dem_census.csv\", index_col=0)"
   ]
  },
  {
   "cell_type": "code",
   "execution_count": 30,
   "metadata": {},
   "outputs": [],
   "source": [
    "# Create percentage statistics\n",
    "census[\"pct_black\"] = census[\"n_people_15to17_black\"]/census[\"n_people_15to17\"]\n",
    "census[\"pct_white\"] = census[\"n_people_15to17_white\"]/census[\"n_people_15to17\"]\n",
    "census[\"pct_indigenous\"] = census[\"n_people_15to17_indigenous\"]/census[\"n_people_15to17\"]\n",
    "census[\"pct_pardos\"] = census[\"n_people_15to17_parda\"]/census[\"n_people_15to17\"]\n",
    "census[\"pct_asian\"] = census[\"n_people_15to17_asian\"]/census[\"n_people_15to17\"]"
   ]
  },
  {
   "cell_type": "markdown",
   "metadata": {},
   "source": [
    "## Summary Statistics"
   ]
  },
  {
   "cell_type": "markdown",
   "metadata": {},
   "source": [
    "### Census Tracts"
   ]
  },
  {
   "cell_type": "code",
   "execution_count": 33,
   "metadata": {},
   "outputs": [
    {
     "data": {
      "text/html": [
       "<div>\n",
       "<style scoped>\n",
       "    .dataframe tbody tr th:only-of-type {\n",
       "        vertical-align: middle;\n",
       "    }\n",
       "\n",
       "    .dataframe tbody tr th {\n",
       "        vertical-align: top;\n",
       "    }\n",
       "\n",
       "    .dataframe thead th {\n",
       "        text-align: right;\n",
       "    }\n",
       "</style>\n",
       "<table border=\"1\" class=\"dataframe\">\n",
       "  <thead>\n",
       "    <tr style=\"text-align: right;\">\n",
       "      <th></th>\n",
       "      <th>Mean</th>\n",
       "      <th>Std.Dev</th>\n",
       "    </tr>\n",
       "  </thead>\n",
       "  <tbody>\n",
       "    <tr>\n",
       "      <th>Number of households</th>\n",
       "      <td>185.307008</td>\n",
       "      <td>102.342254</td>\n",
       "    </tr>\n",
       "    <tr>\n",
       "      <th>Number of people</th>\n",
       "      <td>613.518835</td>\n",
       "      <td>352.408517</td>\n",
       "    </tr>\n",
       "    <tr>\n",
       "      <th>Average Monthly Earnings</th>\n",
       "      <td>1229.582392</td>\n",
       "      <td>1375.383647</td>\n",
       "    </tr>\n",
       "    <tr>\n",
       "      <th>Number of people aged 15 to 17</th>\n",
       "      <td>34.022375</td>\n",
       "      <td>22.650654</td>\n",
       "    </tr>\n",
       "    <tr>\n",
       "      <th>Percentage black</th>\n",
       "      <td>0.067868</td>\n",
       "      <td>0.093036</td>\n",
       "    </tr>\n",
       "    <tr>\n",
       "      <th>Percentage white</th>\n",
       "      <td>0.474209</td>\n",
       "      <td>0.274176</td>\n",
       "    </tr>\n",
       "    <tr>\n",
       "      <th>Percentage indigenous</th>\n",
       "      <td>0.007208</td>\n",
       "      <td>0.073547</td>\n",
       "    </tr>\n",
       "    <tr>\n",
       "      <th>Percentage pardos</th>\n",
       "      <td>0.440494</td>\n",
       "      <td>0.253670</td>\n",
       "    </tr>\n",
       "    <tr>\n",
       "      <th>Percentage asian</th>\n",
       "      <td>0.010207</td>\n",
       "      <td>0.030482</td>\n",
       "    </tr>\n",
       "  </tbody>\n",
       "</table>\n",
       "</div>"
      ],
      "text/plain": [
       "                                       Mean      Std.Dev\n",
       "Number of households             185.307008   102.342254\n",
       "Number of people                 613.518835   352.408517\n",
       "Average Monthly Earnings        1229.582392  1375.383647\n",
       "Number of people aged 15 to 17    34.022375    22.650654\n",
       "Percentage black                   0.067868     0.093036\n",
       "Percentage white                   0.474209     0.274176\n",
       "Percentage indigenous              0.007208     0.073547\n",
       "Percentage pardos                  0.440494     0.253670\n",
       "Percentage asian                   0.010207     0.030482"
      ]
     },
     "execution_count": 33,
     "metadata": {},
     "output_type": "execute_result"
    }
   ],
   "source": [
    "columns = {\n",
    "    \"n_households\":\"Number of households\",\n",
    "    \"n_people\":\"Number of people\", \n",
    "    \"avg_monthly_earnings\":\"Average Monthly Earnings\",\n",
    "    \"n_people_15to17\": \"Number of people aged 15 to 17\",\n",
    "    \"pct_black\": \"Percentage black\",\n",
    "    \"pct_white\": \"Percentage white\",\n",
    "    \"pct_indigenous\": \"Percentage indigenous\",\n",
    "    \"pct_pardos\": \"Percentage pardos\",\n",
    "    \"pct_asian\": \"Percentage asian\"}\n",
    "\n",
    "metrics = {\n",
    "     \"mean\": \"Mean\",\n",
    "    \"std\": \"Std.Dev\",\n",
    "}\n",
    "\n",
    "\n",
    "df_summary = census[columns.keys()].describe().transpose()[metrics.keys()]\n",
    "\n",
    "df_summary.rename(index=columns, columns=metrics, inplace=True)\n",
    "df_summary\n",
    "\n"
   ]
  },
  {
   "cell_type": "code",
   "execution_count": 18,
   "metadata": {},
   "outputs": [
    {
     "name": "stderr",
     "output_type": "stream",
     "text": [
      "/var/folders/v6/m0s_jr6d723809xzpzrvx_340000gn/T/ipykernel_26527/237270451.py:1: FutureWarning: In future versions `DataFrame.to_latex` is expected to utilise the base implementation of `Styler.to_latex` for formatting and rendering. The arguments signature may therefore change. It is recommended instead to use `DataFrame.style.to_latex` which also contains additional functionality.\n",
      "  df_summary.to_latex(\"summary.tex\")\n"
     ]
    }
   ],
   "source": [
    "df_summary.to_latex(\"summary.tex\")"
   ]
  },
  {
   "cell_type": "code",
   "execution_count": 19,
   "metadata": {},
   "outputs": [
    {
     "data": {
      "text/plain": [
       "sector_id                      31\n",
       "state                          31\n",
       "n_households                   29\n",
       "n_people                       29\n",
       "avg_monthly_earnings           29\n",
       "n_people_15to17_white          30\n",
       "n_people_15to17_black          30\n",
       "n_people_15to17_asian          30\n",
       "n_people_15to17_parda          30\n",
       "n_people_15to17_indigenous     30\n",
       "n_people_15                    30\n",
       "n_people_16                    30\n",
       "n_people_17                    30\n",
       "n_people_15_men                30\n",
       "n_people_16_men                30\n",
       "n_people_17_men                30\n",
       "n_people_15_women              30\n",
       "n_people_16_women              30\n",
       "n_people_17_women              30\n",
       "n_people_15to17                30\n",
       "n_people_15to17_alternative    31\n",
       "state_id                        2\n",
       "state_abbrev                    2\n",
       "city_id                         2\n",
       "city_name                       2\n",
       "district_id                     2\n",
       "district_name                   2\n",
       "subdistrict_id                  2\n",
       "subdistrict_name                0\n",
       "neighborhood_name               1\n",
       "neighborhood_id                 1\n",
       "zone                            2\n",
       "geometry                       31\n",
       "microregion_id                 31\n",
       "microregion_name               31\n",
       "mesoregion_id                  31\n",
       "mesoregion_name                31\n",
       "dtype: int64"
      ]
     },
     "execution_count": 19,
     "metadata": {},
     "output_type": "execute_result"
    }
   ],
   "source": [
    "# Count how many rows have geometry equal to school[\"geometry\"][0]\n",
    "# school[\"geometry\"][0]\n",
    "census[census[\"geometry\"] == 'GEOMETRYCOLLECTION EMPTY'].count()"
   ]
  },
  {
   "cell_type": "code",
   "execution_count": 9,
   "metadata": {},
   "outputs": [
    {
     "name": "stdout",
     "output_type": "stream",
     "text": [
      "Average number of students per classroom:  30.250202315612356\n"
     ]
    }
   ],
   "source": [
    "# Average number of students per classroom\n",
    "print(\"Average number of students per classroom: \", school[\"n_students\"].sum() / school[\"n_classes\"].sum())"
   ]
  },
  {
   "cell_type": "markdown",
   "metadata": {},
   "source": [
    "### Schools"
   ]
  },
  {
   "cell_type": "code",
   "execution_count": 36,
   "metadata": {},
   "outputs": [],
   "source": [
    "school = school[(school[\"n_classes\"] > 0) & (school[\"admin_type\"] != 4.0)]"
   ]
  },
  {
   "cell_type": "code",
   "execution_count": 37,
   "metadata": {},
   "outputs": [
    {
     "data": {
      "text/html": [
       "<div>\n",
       "<style scoped>\n",
       "    .dataframe tbody tr th:only-of-type {\n",
       "        vertical-align: middle;\n",
       "    }\n",
       "\n",
       "    .dataframe tbody tr th {\n",
       "        vertical-align: top;\n",
       "    }\n",
       "\n",
       "    .dataframe thead th {\n",
       "        text-align: right;\n",
       "    }\n",
       "</style>\n",
       "<table border=\"1\" class=\"dataframe\">\n",
       "  <thead>\n",
       "    <tr style=\"text-align: right;\">\n",
       "      <th></th>\n",
       "      <th>Mean</th>\n",
       "      <th>Std.Dev</th>\n",
       "    </tr>\n",
       "  </thead>\n",
       "  <tbody>\n",
       "    <tr>\n",
       "      <th>Number of teachers</th>\n",
       "      <td>8.404181</td>\n",
       "      <td>13.446329</td>\n",
       "    </tr>\n",
       "    <tr>\n",
       "      <th>Number of students</th>\n",
       "      <td>323.161171</td>\n",
       "      <td>289.465090</td>\n",
       "    </tr>\n",
       "    <tr>\n",
       "      <th>Number of classes</th>\n",
       "      <td>10.493902</td>\n",
       "      <td>8.259417</td>\n",
       "    </tr>\n",
       "  </tbody>\n",
       "</table>\n",
       "</div>"
      ],
      "text/plain": [
       "                          Mean     Std.Dev\n",
       "Number of teachers    8.404181   13.446329\n",
       "Number of students  323.161171  289.465090\n",
       "Number of classes    10.493902    8.259417"
      ]
     },
     "execution_count": 37,
     "metadata": {},
     "output_type": "execute_result"
    }
   ],
   "source": [
    "columns = {\n",
    "    \"n_teachers\":\"Number of teachers\",\n",
    "    \"n_students\":\"Number of students\",\n",
    "    \"n_classes\":\"Number of classes\",}\n",
    "\n",
    "metrics = {\n",
    "     \"mean\": \"Mean\",\n",
    "    \"std\": \"Std.Dev\",\n",
    "}\n",
    "\n",
    "\n",
    "school_summary = school[columns.keys()].describe().transpose()[metrics.keys()]\n",
    "\n",
    "school_summary.rename(index=columns, columns=metrics, inplace=True)\n",
    "school_summary"
   ]
  },
  {
   "cell_type": "code",
   "execution_count": 34,
   "metadata": {},
   "outputs": [
    {
     "data": {
      "text/plain": [
       "Index(['region_name', 'region_id', 'state_name', 'state_abbrev', 'state_id',\n",
       "       'city_name', 'city_id', 'mesoregion_name', 'mesoregion_id',\n",
       "       'microregion_name', 'microregion_id', 'sector_id', 'school_id',\n",
       "       'school_name', 'admin_type', 'location_type', 'address',\n",
       "       'address_number', 'address_complement', 'neighborhood', 'zip_code',\n",
       "       'n_students', 'n_teachers', 'n_classes', 'sigla_uf', 'geometry'],\n",
       "      dtype='object')"
      ]
     },
     "execution_count": 34,
     "metadata": {},
     "output_type": "execute_result"
    }
   ],
   "source": [
    "school.columns"
   ]
  },
  {
   "cell_type": "code",
   "execution_count": 38,
   "metadata": {},
   "outputs": [
    {
     "data": {
      "text/html": [
       "<div>\n",
       "<style scoped>\n",
       "    .dataframe tbody tr th:only-of-type {\n",
       "        vertical-align: middle;\n",
       "    }\n",
       "\n",
       "    .dataframe tbody tr th {\n",
       "        vertical-align: top;\n",
       "    }\n",
       "\n",
       "    .dataframe thead th {\n",
       "        text-align: right;\n",
       "    }\n",
       "</style>\n",
       "<table border=\"1\" class=\"dataframe\">\n",
       "  <thead>\n",
       "    <tr style=\"text-align: right;\">\n",
       "      <th></th>\n",
       "      <th>region_id</th>\n",
       "      <th>state_id</th>\n",
       "      <th>city_id</th>\n",
       "      <th>mesoregion_id</th>\n",
       "      <th>microregion_id</th>\n",
       "      <th>sector_id</th>\n",
       "      <th>school_id</th>\n",
       "      <th>admin_type</th>\n",
       "      <th>location_type</th>\n",
       "      <th>zip_code</th>\n",
       "      <th>n_students</th>\n",
       "      <th>n_teachers</th>\n",
       "      <th>n_classes</th>\n",
       "    </tr>\n",
       "  </thead>\n",
       "  <tbody>\n",
       "    <tr>\n",
       "      <th>count</th>\n",
       "      <td>20500.000000</td>\n",
       "      <td>20500.000000</td>\n",
       "      <td>2.050000e+04</td>\n",
       "      <td>20500.000000</td>\n",
       "      <td>20500.000000</td>\n",
       "      <td>2.050000e+04</td>\n",
       "      <td>2.050000e+04</td>\n",
       "      <td>20500.000000</td>\n",
       "      <td>20500.000000</td>\n",
       "      <td>2.050000e+04</td>\n",
       "      <td>20500.000000</td>\n",
       "      <td>20476.000000</td>\n",
       "      <td>20500.000000</td>\n",
       "    </tr>\n",
       "    <tr>\n",
       "      <th>mean</th>\n",
       "      <td>2.881659</td>\n",
       "      <td>32.231366</td>\n",
       "      <td>3.239461e+06</td>\n",
       "      <td>3228.484878</td>\n",
       "      <td>32252.556146</td>\n",
       "      <td>3.239461e+08</td>\n",
       "      <td>3.236884e+07</td>\n",
       "      <td>1.979707</td>\n",
       "      <td>1.142537</td>\n",
       "      <td>5.202654e+07</td>\n",
       "      <td>323.161171</td>\n",
       "      <td>8.404181</td>\n",
       "      <td>10.493902</td>\n",
       "    </tr>\n",
       "    <tr>\n",
       "      <th>std</th>\n",
       "      <td>1.071267</td>\n",
       "      <td>9.872547</td>\n",
       "      <td>9.897297e+05</td>\n",
       "      <td>988.012521</td>\n",
       "      <td>9875.911680</td>\n",
       "      <td>9.897298e+07</td>\n",
       "      <td>9.871519e+06</td>\n",
       "      <td>0.194259</td>\n",
       "      <td>0.349608</td>\n",
       "      <td>2.762400e+07</td>\n",
       "      <td>289.465090</td>\n",
       "      <td>13.446329</td>\n",
       "      <td>8.259417</td>\n",
       "    </tr>\n",
       "    <tr>\n",
       "      <th>min</th>\n",
       "      <td>1.000000</td>\n",
       "      <td>11.000000</td>\n",
       "      <td>1.100015e+06</td>\n",
       "      <td>1101.000000</td>\n",
       "      <td>11001.000000</td>\n",
       "      <td>1.100015e+08</td>\n",
       "      <td>1.100026e+07</td>\n",
       "      <td>1.000000</td>\n",
       "      <td>1.000000</td>\n",
       "      <td>1.107000e+06</td>\n",
       "      <td>1.000000</td>\n",
       "      <td>0.000000</td>\n",
       "      <td>1.000000</td>\n",
       "    </tr>\n",
       "    <tr>\n",
       "      <th>25%</th>\n",
       "      <td>2.000000</td>\n",
       "      <td>26.000000</td>\n",
       "      <td>2.604106e+06</td>\n",
       "      <td>2602.000000</td>\n",
       "      <td>26005.000000</td>\n",
       "      <td>2.604106e+08</td>\n",
       "      <td>2.604306e+07</td>\n",
       "      <td>2.000000</td>\n",
       "      <td>1.000000</td>\n",
       "      <td>2.846000e+07</td>\n",
       "      <td>124.000000</td>\n",
       "      <td>0.000000</td>\n",
       "      <td>5.000000</td>\n",
       "    </tr>\n",
       "    <tr>\n",
       "      <th>50%</th>\n",
       "      <td>3.000000</td>\n",
       "      <td>33.000000</td>\n",
       "      <td>3.301702e+06</td>\n",
       "      <td>3304.000000</td>\n",
       "      <td>33009.000000</td>\n",
       "      <td>3.301702e+08</td>\n",
       "      <td>3.303018e+07</td>\n",
       "      <td>2.000000</td>\n",
       "      <td>1.000000</td>\n",
       "      <td>5.749500e+07</td>\n",
       "      <td>249.000000</td>\n",
       "      <td>0.000000</td>\n",
       "      <td>9.000000</td>\n",
       "    </tr>\n",
       "    <tr>\n",
       "      <th>75%</th>\n",
       "      <td>4.000000</td>\n",
       "      <td>41.000000</td>\n",
       "      <td>4.101804e+06</td>\n",
       "      <td>4101.000000</td>\n",
       "      <td>41002.250000</td>\n",
       "      <td>4.101804e+08</td>\n",
       "      <td>4.100937e+07</td>\n",
       "      <td>2.000000</td>\n",
       "      <td>1.000000</td>\n",
       "      <td>7.580038e+07</td>\n",
       "      <td>430.000000</td>\n",
       "      <td>16.000000</td>\n",
       "      <td>13.000000</td>\n",
       "    </tr>\n",
       "    <tr>\n",
       "      <th>max</th>\n",
       "      <td>5.000000</td>\n",
       "      <td>53.000000</td>\n",
       "      <td>5.300108e+06</td>\n",
       "      <td>5301.000000</td>\n",
       "      <td>53001.000000</td>\n",
       "      <td>5.300108e+08</td>\n",
       "      <td>5.306818e+07</td>\n",
       "      <td>3.000000</td>\n",
       "      <td>2.000000</td>\n",
       "      <td>9.999000e+07</td>\n",
       "      <td>3080.000000</td>\n",
       "      <td>223.000000</td>\n",
       "      <td>164.000000</td>\n",
       "    </tr>\n",
       "  </tbody>\n",
       "</table>\n",
       "</div>"
      ],
      "text/plain": [
       "          region_id      state_id       city_id  mesoregion_id  \\\n",
       "count  20500.000000  20500.000000  2.050000e+04   20500.000000   \n",
       "mean       2.881659     32.231366  3.239461e+06    3228.484878   \n",
       "std        1.071267      9.872547  9.897297e+05     988.012521   \n",
       "min        1.000000     11.000000  1.100015e+06    1101.000000   \n",
       "25%        2.000000     26.000000  2.604106e+06    2602.000000   \n",
       "50%        3.000000     33.000000  3.301702e+06    3304.000000   \n",
       "75%        4.000000     41.000000  4.101804e+06    4101.000000   \n",
       "max        5.000000     53.000000  5.300108e+06    5301.000000   \n",
       "\n",
       "       microregion_id     sector_id     school_id    admin_type  \\\n",
       "count    20500.000000  2.050000e+04  2.050000e+04  20500.000000   \n",
       "mean     32252.556146  3.239461e+08  3.236884e+07      1.979707   \n",
       "std       9875.911680  9.897298e+07  9.871519e+06      0.194259   \n",
       "min      11001.000000  1.100015e+08  1.100026e+07      1.000000   \n",
       "25%      26005.000000  2.604106e+08  2.604306e+07      2.000000   \n",
       "50%      33009.000000  3.301702e+08  3.303018e+07      2.000000   \n",
       "75%      41002.250000  4.101804e+08  4.100937e+07      2.000000   \n",
       "max      53001.000000  5.300108e+08  5.306818e+07      3.000000   \n",
       "\n",
       "       location_type      zip_code    n_students    n_teachers     n_classes  \n",
       "count   20500.000000  2.050000e+04  20500.000000  20476.000000  20500.000000  \n",
       "mean        1.142537  5.202654e+07    323.161171      8.404181     10.493902  \n",
       "std         0.349608  2.762400e+07    289.465090     13.446329      8.259417  \n",
       "min         1.000000  1.107000e+06      1.000000      0.000000      1.000000  \n",
       "25%         1.000000  2.846000e+07    124.000000      0.000000      5.000000  \n",
       "50%         1.000000  5.749500e+07    249.000000      0.000000      9.000000  \n",
       "75%         1.000000  7.580038e+07    430.000000     16.000000     13.000000  \n",
       "max         2.000000  9.999000e+07   3080.000000    223.000000    164.000000  "
      ]
     },
     "execution_count": 38,
     "metadata": {},
     "output_type": "execute_result"
    }
   ],
   "source": [
    "school.describe()"
   ]
  },
  {
   "cell_type": "code",
   "execution_count": 41,
   "metadata": {},
   "outputs": [
    {
     "data": {
      "text/plain": [
       "region_name           2023\n",
       "region_id             2023\n",
       "state_name            2023\n",
       "state_abbrev          2023\n",
       "state_id              2023\n",
       "city_name             2023\n",
       "city_id               2023\n",
       "mesoregion_name       2023\n",
       "mesoregion_id         2023\n",
       "microregion_name      2023\n",
       "microregion_id        2023\n",
       "sector_id             2023\n",
       "school_id             2023\n",
       "school_name           2023\n",
       "admin_type            2023\n",
       "location_type         2023\n",
       "address               2023\n",
       "address_number        1663\n",
       "address_complement     485\n",
       "neighborhood          1781\n",
       "zip_code              2023\n",
       "n_students            2023\n",
       "n_teachers            2022\n",
       "n_classes             2023\n",
       "sigla_uf              1990\n",
       "geometry              2023\n",
       "dtype: int64"
      ]
     },
     "execution_count": 41,
     "metadata": {},
     "output_type": "execute_result"
    }
   ],
   "source": [
    "# count if geomtry is 'GEOMETRYCOLLECTION EMPTY'\n",
    "school[school[\"geometry\"] == 'GEOMETRYCOLLECTION EMPTY'].count()"
   ]
  },
  {
   "cell_type": "markdown",
   "metadata": {},
   "source": [
    "## Correlations"
   ]
  },
  {
   "cell_type": "code",
   "execution_count": null,
   "metadata": {},
   "outputs": [],
   "source": [
    "# norm_access_df = geo_dem_census_df.set_index(\"sector_id\").join(A.access_df[[\"e2sfca_n_classes\",\"3sfca_n_classes\", \"e2sfca_n_teachers\", \"3sfca_n_teachers\"]], how=\"left\")\n",
    "# sp_df = norm_access_df[norm_access_df[\"city_name\"] == \"Araçatuba\"]\n",
    "# plt.scatter(sp_df[\"3sfca_n_teachers\"], sp_df[\"3sfca_n_classes\"], alpha=0.3)\n",
    "# # set limits on the axes\n",
    "\n",
    "# plt.xlabel(\"Teachers\")\n",
    "# plt.ylabel(\"Classrooms\")\n",
    "# plt.show()"
   ]
  }
 ],
 "metadata": {
  "kernelspec": {
   "display_name": "Python 3.10.4 ('cap_env')",
   "language": "python",
   "name": "python3"
  },
  "language_info": {
   "codemirror_mode": {
    "name": "ipython",
    "version": 3
   },
   "file_extension": ".py",
   "mimetype": "text/x-python",
   "name": "python",
   "nbconvert_exporter": "python",
   "pygments_lexer": "ipython3",
   "version": "3.10.4"
  },
  "orig_nbformat": 4,
  "vscode": {
   "interpreter": {
    "hash": "998f53a967595206ca2b0fe694f898506950a27042b510ab2e2e2930595cb248"
   }
  }
 },
 "nbformat": 4,
 "nbformat_minor": 2
}
