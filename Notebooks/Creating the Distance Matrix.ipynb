{
 "cells": [
  {
   "cell_type": "markdown",
   "metadata": {},
   "source": [
    "# Creating the Distance Matrix"
   ]
  },
  {
   "cell_type": "markdown",
   "metadata": {},
   "source": [
    "In order to calculate the access metrics, we need a distance matrix of each supply point to each demand point. In our case, from the census tract centroid to each school. \n",
    "\n",
    "Calculating the distance between every single pair of supply and demand points is computationally inviable, so we define a threshold for a maximum distance and we split the calculation into chunks. In practice, we divide our dataframe based on the microregions of Brazil and calculate the distance matrix of each one separately. The benefit is that we don't have to check the distance for two points that are hundreds of miles away. The downside is that with this method we ignore that people can cross microregions to go to school. However, I consider that this scenario is extremely uncommon. \n",
    "\n",
    "We will use the [Haversine formula](https://en.wikipedia.org/wiki/Haversine_formula) to calculate the distance between two points on a sphere. The Haversine formula is a special case of the [Vincenty formula](https://en.wikipedia.org/wiki/Vincenty%27s_formulae), which is more accurate but also more computationally expensive. The Haversine formula is a good approximation for short distances, which is the case for our analysis.\n",
    "\n",
    "W="
   ]
  },
  {
   "cell_type": "code",
   "execution_count": 1,
   "metadata": {},
   "outputs": [],
   "source": [
    "# import libraries\n",
    "import numpy as np\n",
    "import matplotlib.pyplot as plt\n",
    "import pandas as pd\n",
    "import geopandas as gpd\n",
    "from shapely import wkt"
   ]
  },
  {
   "cell_type": "code",
   "execution_count": 4,
   "metadata": {},
   "outputs": [],
   "source": [
    "\n",
    "# importing basic dataset of the census tracts\n",
    "geo_school_census_df = pd.read_csv('/Users/feliphlvo/Documents/Minerva/Capstone/data/Local/school_census.csv', index_col=0)\n",
    "geo_dem_census_df = pd.read_csv('/Users/feliphlvo/Documents/Minerva/Capstone/data/Local/dem_census.csv', index_col=0)"
   ]
  },
  {
   "cell_type": "code",
   "execution_count": 5,
   "metadata": {},
   "outputs": [],
   "source": [
    "# Only public schools with at least one high school class and regions with at least one high-school aged person\n",
    "geo_dem_census_df = geo_dem_census_df[geo_dem_census_df[\"n_people_15to17\"] > 0]\n",
    "geo_school_census_df = geo_school_census_df[(geo_school_census_df[\"n_classes\"] > 0) & (geo_school_census_df[\"admin_type\"] != 4.0)]"
   ]
  },
  {
   "cell_type": "code",
   "execution_count": 141,
   "metadata": {},
   "outputs": [],
   "source": [
    "import warnings\n",
    "from tqdm import tqdm\n",
    "\n",
    "warnings.filterwarnings('ignore')\n",
    "def distance_matrix(demand_df, supply_df, demand_index, supply_index, name = \"euclidean\", threshold = 10000):   \n",
    "    \"\"\"\"\"\n",
    "    This function calculates the distance matrix between every pair of points in two geodataframes up to a threshold.\n",
    "\n",
    "    Inspired by create_euclidean_distances in the Access package\n",
    "    \"\"\"\n",
    "\n",
    "    # Reset the index so that the geoids are accessible\n",
    "    df1 = demand_df.rename_axis(\"origin\").reset_index()\n",
    "    df2 = supply_df.rename_axis(\"dest\").reset_index()\n",
    "\n",
    "    # Convert to centroids if so-specified\n",
    "    df1.set_geometry(df1.centroid, inplace=True)\n",
    "    df2.set_geometry(df2.centroid, inplace=True)\n",
    "    # Calculate the distances.\n",
    "    if (df1.geom_type == \"Point\").all() & (df2.geom_type == \"Point\").all():\n",
    "        # If both geometries are point types, merge on a temporary dummy column\n",
    "        df1[\"temp\"] = 1\n",
    "        df2[\"temp\"] = 1\n",
    "        df1and2 = df1[[\"temp\", \"geometry\", \"origin\"]].merge(\n",
    "            df2[[\"temp\", \"geometry\", \"dest\"]].rename(columns={\"geometry\": \"geomb\"})\n",
    "        )\n",
    "        df1and2.drop(\"temp\", inplace=True, axis=1)\n",
    "        df1and2[name] = df1and2.distance(df1and2.set_geometry(\"geomb\"))\n",
    "    else:\n",
    "        # Execute an sjoin for non-point geometries, based upon a buffer zone\n",
    "        df1and2 = gpd.sjoin(\n",
    "            df1,\n",
    "            df2.rename(columns={\"geometry\": \"geomb\"}).set_geometry(\n",
    "                df2.buffer(threshold)\n",
    "            ),\n",
    "        )\n",
    "        df1and2[name] = df1and2.distance(df1and2.set_geometry(\"geomb\"))\n",
    "\n",
    "    # Add it to the cost df.\n",
    "    df1and2 = df1and2[df1and2[name] < threshold]\n",
    "    df1and2 = df1and2.reset_index()[[\"origin\", \"dest\", \"euclidean\"]]\n",
    "\n",
    "    return df1and2\n",
    "\n",
    "\n",
    "def chunked_distance_matrix(demand_df, supply_df, demand_index, supply_index, subset_column, name = \"euclidean\", threshold = 10000):\n",
    "    '''''\n",
    "    This function calculates the distance matrix between every pair of points in two geodataframes up to a threshold.\n",
    "    It calculates distances separately for each subset to avoid memory issues.\n",
    "    '''\n",
    "    demand_df = demand_df.copy()\n",
    "    supply_df = supply_df.copy()\n",
    "    \n",
    "    demand_df.set_index(demand_index, inplace=True)\n",
    "    supply_df.set_index(supply_index, inplace=True)\n",
    "\n",
    "    subset_values = demand_df[subset_column].unique()\n",
    "    # Initialize distance matrix df\n",
    "    distance_matrix_df = pd.DataFrame()\n",
    "    for value in tqdm(subset_values):\n",
    "        #print(\"Processing \" + str(value))\n",
    "        # Subset the dataframes\n",
    "        demand_subset = demand_df[demand_df[subset_column] == value]\n",
    "        supply_subset = supply_df[supply_df[subset_column] == value]\n",
    "        # Calculate the distance matrix\n",
    "        distance_matrix_df = distance_matrix_df.append(\n",
    "            distance_matrix(demand_subset, supply_subset,  demand_index, supply_index, name, threshold)\n",
    "        )\n",
    "    return distance_matrix_df"
   ]
  },
  {
   "cell_type": "code",
   "execution_count": 143,
   "metadata": {},
   "outputs": [
    {
     "name": "stderr",
     "output_type": "stream",
     "text": [
      "100%|██████████| 559/559 [07:06<00:00,  1.31it/s]\n"
     ]
    }
   ],
   "source": [
    "dist_matrix = chunked_distance_matrix(geo_dem_census_df, geo_school_census_df, demand_index=\"sector_id\",\n",
    "                                      supply_index=\"school_id\", subset_column=\"microregion_id\", name=\"euclidean\", threshold=20000)"
   ]
  },
  {
   "cell_type": "markdown",
   "metadata": {},
   "source": []
  },
  {
   "cell_type": "code",
   "execution_count": 147,
   "metadata": {},
   "outputs": [
    {
     "data": {
      "text/html": [
       "<div>\n",
       "<style scoped>\n",
       "    .dataframe tbody tr th:only-of-type {\n",
       "        vertical-align: middle;\n",
       "    }\n",
       "\n",
       "    .dataframe tbody tr th {\n",
       "        vertical-align: top;\n",
       "    }\n",
       "\n",
       "    .dataframe thead th {\n",
       "        text-align: right;\n",
       "    }\n",
       "</style>\n",
       "<table border=\"1\" class=\"dataframe\">\n",
       "  <thead>\n",
       "    <tr style=\"text-align: right;\">\n",
       "      <th></th>\n",
       "      <th>origin</th>\n",
       "      <th>dest</th>\n",
       "      <th>euclidean</th>\n",
       "    </tr>\n",
       "  </thead>\n",
       "  <tbody>\n",
       "    <tr>\n",
       "      <th>0</th>\n",
       "      <td>170025105000002</td>\n",
       "      <td>17010535</td>\n",
       "      <td>13894.563390</td>\n",
       "    </tr>\n",
       "    <tr>\n",
       "      <th>1</th>\n",
       "      <td>170320605000005</td>\n",
       "      <td>17014298</td>\n",
       "      <td>16119.745299</td>\n",
       "    </tr>\n",
       "    <tr>\n",
       "      <th>2</th>\n",
       "      <td>170390905000005</td>\n",
       "      <td>17011736</td>\n",
       "      <td>12566.395935</td>\n",
       "    </tr>\n",
       "    <tr>\n",
       "      <th>3</th>\n",
       "      <td>170600105000005</td>\n",
       "      <td>17011787</td>\n",
       "      <td>17742.292778</td>\n",
       "    </tr>\n",
       "    <tr>\n",
       "      <th>4</th>\n",
       "      <td>170600105000005</td>\n",
       "      <td>17014298</td>\n",
       "      <td>18544.963646</td>\n",
       "    </tr>\n",
       "  </tbody>\n",
       "</table>\n",
       "</div>"
      ],
      "text/plain": [
       "            origin      dest     euclidean\n",
       "0  170025105000002  17010535  13894.563390\n",
       "1  170320605000005  17014298  16119.745299\n",
       "2  170390905000005  17011736  12566.395935\n",
       "3  170600105000005  17011787  17742.292778\n",
       "4  170600105000005  17014298  18544.963646"
      ]
     },
     "execution_count": 147,
     "metadata": {},
     "output_type": "execute_result"
    }
   ],
   "source": [
    "dist_matrix.head()"
   ]
  },
  {
   "cell_type": "code",
   "execution_count": 146,
   "metadata": {},
   "outputs": [],
   "source": [
    "# Write distance matrix to csv\n",
    "dist_matrix.to_csv('/Users/feliphlvo/Documents/Minerva/Capstone/data/Local/dist_matrix.csv')"
   ]
  },
  {
   "cell_type": "code",
   "execution_count": 45,
   "metadata": {},
   "outputs": [
    {
     "data": {
      "text/plain": [
       "array([1700251., 1700301., 1700400., ..., 4207858., 2413805., 2700805.])"
      ]
     },
     "execution_count": 45,
     "metadata": {},
     "output_type": "execute_result"
    }
   ],
   "source": [
    "# Unique values of city_id\n",
    "geo_dem_census_df[\"city_id\"].unique()"
   ]
  },
  {
   "cell_type": "code",
   "execution_count": 40,
   "metadata": {},
   "outputs": [],
   "source": [
    "# Subset DFs\n",
    "subset_city = 1100015.0\n",
    "subset_census = geo_dem_census_df[geo_dem_census_df[\"city_id\"] == subset_city]\n",
    "subset_schools = geo_school_census_df[geo_school_census_df[\"city_id\"] == subset_city]"
   ]
  },
  {
   "cell_type": "code",
   "execution_count": 44,
   "metadata": {},
   "outputs": [
    {
     "name": "stderr",
     "output_type": "stream",
     "text": [
      "/Users/feliphlvo/opt/anaconda3/envs/cap_env/lib/python3.10/site-packages/geopandas/array.py:546: ShapelyDeprecationWarning: The array interface is deprecated and will no longer work in Shapely 2.0. Convert the '.coords' to a numpy array instead.\n",
      "  return _unary_geo(\"centroid\", self)\n",
      "/Users/feliphlvo/opt/anaconda3/envs/cap_env/lib/python3.10/site-packages/geopandas/geoseries.py:128: ShapelyDeprecationWarning: The array interface is deprecated and will no longer work in Shapely 2.0. Convert the '.coords' to a numpy array instead.\n",
      "  data = from_shapely(s.values)\n"
     ]
    },
    {
     "data": {
      "text/html": [
       "<div>\n",
       "<style scoped>\n",
       "    .dataframe tbody tr th:only-of-type {\n",
       "        vertical-align: middle;\n",
       "    }\n",
       "\n",
       "    .dataframe tbody tr th {\n",
       "        vertical-align: top;\n",
       "    }\n",
       "\n",
       "    .dataframe thead th {\n",
       "        text-align: right;\n",
       "    }\n",
       "</style>\n",
       "<table border=\"1\" class=\"dataframe\">\n",
       "  <thead>\n",
       "    <tr style=\"text-align: right;\">\n",
       "      <th></th>\n",
       "      <th>geometry</th>\n",
       "      <th>origin</th>\n",
       "      <th>geomb</th>\n",
       "      <th>dest</th>\n",
       "      <th>euclidean</th>\n",
       "    </tr>\n",
       "  </thead>\n",
       "  <tbody>\n",
       "    <tr>\n",
       "      <th>0</th>\n",
       "      <td>POINT (2886898.637 8672132.565)</td>\n",
       "      <td>10650</td>\n",
       "      <td>POINT (2886759.309 8672190.023)</td>\n",
       "      <td>8</td>\n",
       "      <td>150.710340</td>\n",
       "    </tr>\n",
       "    <tr>\n",
       "      <th>1</th>\n",
       "      <td>POINT (2886898.637 8672132.565)</td>\n",
       "      <td>10650</td>\n",
       "      <td>POINT (2887396.839 8672498.304)</td>\n",
       "      <td>12</td>\n",
       "      <td>618.038247</td>\n",
       "    </tr>\n",
       "    <tr>\n",
       "      <th>2</th>\n",
       "      <td>POINT (2886898.637 8672132.565)</td>\n",
       "      <td>10650</td>\n",
       "      <td>POINT (2885894.346 8671383.156)</td>\n",
       "      <td>27</td>\n",
       "      <td>1253.081621</td>\n",
       "    </tr>\n",
       "    <tr>\n",
       "      <th>15</th>\n",
       "      <td>POINT (2886629.031 8671143.039)</td>\n",
       "      <td>108481</td>\n",
       "      <td>POINT (2886759.309 8672190.023)</td>\n",
       "      <td>8</td>\n",
       "      <td>1055.057393</td>\n",
       "    </tr>\n",
       "    <tr>\n",
       "      <th>16</th>\n",
       "      <td>POINT (2886629.031 8671143.039)</td>\n",
       "      <td>108481</td>\n",
       "      <td>POINT (2887396.839 8672498.304)</td>\n",
       "      <td>12</td>\n",
       "      <td>1557.649721</td>\n",
       "    </tr>\n",
       "    <tr>\n",
       "      <th>...</th>\n",
       "      <td>...</td>\n",
       "      <td>...</td>\n",
       "      <td>...</td>\n",
       "      <td>...</td>\n",
       "      <td>...</td>\n",
       "    </tr>\n",
       "    <tr>\n",
       "      <th>148</th>\n",
       "      <td>POINT (2886438.056 8672714.282)</td>\n",
       "      <td>284272</td>\n",
       "      <td>POINT (2887396.839 8672498.304)</td>\n",
       "      <td>12</td>\n",
       "      <td>982.807917</td>\n",
       "    </tr>\n",
       "    <tr>\n",
       "      <th>149</th>\n",
       "      <td>POINT (2886438.056 8672714.282)</td>\n",
       "      <td>284272</td>\n",
       "      <td>POINT (2885894.346 8671383.156)</td>\n",
       "      <td>27</td>\n",
       "      <td>1437.886132</td>\n",
       "    </tr>\n",
       "    <tr>\n",
       "      <th>156</th>\n",
       "      <td>POINT (2886044.618 8672622.476)</td>\n",
       "      <td>306095</td>\n",
       "      <td>POINT (2886759.309 8672190.023)</td>\n",
       "      <td>8</td>\n",
       "      <td>835.343847</td>\n",
       "    </tr>\n",
       "    <tr>\n",
       "      <th>157</th>\n",
       "      <td>POINT (2886044.618 8672622.476)</td>\n",
       "      <td>306095</td>\n",
       "      <td>POINT (2887396.839 8672498.304)</td>\n",
       "      <td>12</td>\n",
       "      <td>1357.910520</td>\n",
       "    </tr>\n",
       "    <tr>\n",
       "      <th>158</th>\n",
       "      <td>POINT (2886044.618 8672622.476)</td>\n",
       "      <td>306095</td>\n",
       "      <td>POINT (2885894.346 8671383.156)</td>\n",
       "      <td>27</td>\n",
       "      <td>1248.397588</td>\n",
       "    </tr>\n",
       "  </tbody>\n",
       "</table>\n",
       "<p>66 rows × 5 columns</p>\n",
       "</div>"
      ],
      "text/plain": [
       "                            geometry  origin                            geomb  \\\n",
       "0    POINT (2886898.637 8672132.565)   10650  POINT (2886759.309 8672190.023)   \n",
       "1    POINT (2886898.637 8672132.565)   10650  POINT (2887396.839 8672498.304)   \n",
       "2    POINT (2886898.637 8672132.565)   10650  POINT (2885894.346 8671383.156)   \n",
       "15   POINT (2886629.031 8671143.039)  108481  POINT (2886759.309 8672190.023)   \n",
       "16   POINT (2886629.031 8671143.039)  108481  POINT (2887396.839 8672498.304)   \n",
       "..                               ...     ...                              ...   \n",
       "148  POINT (2886438.056 8672714.282)  284272  POINT (2887396.839 8672498.304)   \n",
       "149  POINT (2886438.056 8672714.282)  284272  POINT (2885894.346 8671383.156)   \n",
       "156  POINT (2886044.618 8672622.476)  306095  POINT (2886759.309 8672190.023)   \n",
       "157  POINT (2886044.618 8672622.476)  306095  POINT (2887396.839 8672498.304)   \n",
       "158  POINT (2886044.618 8672622.476)  306095  POINT (2885894.346 8671383.156)   \n",
       "\n",
       "     dest    euclidean  \n",
       "0       8   150.710340  \n",
       "1      12   618.038247  \n",
       "2      27  1253.081621  \n",
       "15      8  1055.057393  \n",
       "16     12  1557.649721  \n",
       "..    ...          ...  \n",
       "148    12   982.807917  \n",
       "149    27  1437.886132  \n",
       "156     8   835.343847  \n",
       "157    12  1357.910520  \n",
       "158    27  1248.397588  \n",
       "\n",
       "[66 rows x 5 columns]"
      ]
     },
     "execution_count": 44,
     "metadata": {},
     "output_type": "execute_result"
    }
   ],
   "source": [
    "distance_matrix(subset_census, subset_schools, name = \"euclidean\", threshold = 10000)"
   ]
  },
  {
   "cell_type": "code",
   "execution_count": null,
   "metadata": {},
   "outputs": [],
   "source": []
  }
 ],
 "metadata": {
  "kernelspec": {
   "display_name": "Python 3.10.4 ('cap_env')",
   "language": "python",
   "name": "python3"
  },
  "language_info": {
   "codemirror_mode": {
    "name": "ipython",
    "version": 3
   },
   "file_extension": ".py",
   "mimetype": "text/x-python",
   "name": "python",
   "nbconvert_exporter": "python",
   "pygments_lexer": "ipython3",
   "version": "3.10.4"
  },
  "orig_nbformat": 4,
  "vscode": {
   "interpreter": {
    "hash": "998f53a967595206ca2b0fe694f898506950a27042b510ab2e2e2930595cb248"
   }
  }
 },
 "nbformat": 4,
 "nbformat_minor": 2
}
