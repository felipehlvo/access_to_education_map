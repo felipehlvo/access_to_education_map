{
 "cells": [
  {
   "cell_type": "markdown",
   "metadata": {},
   "source": [
    "This notebook uses the access library to calculate and plot spatial access metrics for one town in Brazil. "
   ]
  },
  {
   "cell_type": "code",
   "execution_count": 1,
   "metadata": {},
   "outputs": [],
   "source": [
    "import pandas as pd\n",
    "import geopandas as gpd\n",
    "import numpy as np\n",
    "import matplotlib.pyplot as plt\n",
    "from access import Access, weights, Datasets\n",
    "# Transforming dataset into geopandas data\n",
    "import geopandas as gpd\n",
    "from shapely import wkt\n",
    "\n"
   ]
  },
  {
   "cell_type": "code",
   "execution_count": 4,
   "metadata": {},
   "outputs": [
    {
     "name": "stderr",
     "output_type": "stream",
     "text": [
      "/var/folders/v6/m0s_jr6d723809xzpzrvx_340000gn/T/ipykernel_58187/1079503947.py:3: DtypeWarning: Columns (2) have mixed types. Specify dtype option on import or set low_memory=False.\n",
      "  dem_census_df = pd.read_csv(\"/Users/feliphlvo/Documents/Minerva/Capstone/data/local/dem_census.csv\", index_col=0)\n"
     ]
    }
   ],
   "source": [
    "# Importing data\n",
    "school_census_df = pd.read_csv(\"/Users/feliphlvo/Documents/Minerva/Capstone/data/local/school_census.csv\",index_col=0)\n",
    "dem_census_df = pd.read_csv(\"/Users/feliphlvo/Documents/Minerva/Capstone/data/local/dem_census.csv\", index_col=0)"
   ]
  },
  {
   "cell_type": "code",
   "execution_count": 5,
   "metadata": {},
   "outputs": [
    {
     "name": "stderr",
     "output_type": "stream",
     "text": [
      "/Users/feliphlvo/opt/anaconda3/envs/cap_env/lib/python3.10/site-packages/geopandas/array.py:93: ShapelyDeprecationWarning: __len__ for multi-part geometries is deprecated and will be removed in Shapely 2.0. Check the length of the `geoms` property instead to get the  number of parts of a multi-part geometry.\n",
      "  aout[:] = out\n",
      "/Users/feliphlvo/opt/anaconda3/envs/cap_env/lib/python3.10/site-packages/geopandas/geodataframe.py:34: ShapelyDeprecationWarning: The array interface is deprecated and will no longer work in Shapely 2.0. Convert the '.coords' to a numpy array instead.\n",
      "  out = from_shapely(data)\n"
     ]
    }
   ],
   "source": [
    "#Turn into geopandas\n",
    "def wkt_loads(x):\n",
    "    try:\n",
    "        return wkt.loads(x)\n",
    "    except Exception:\n",
    "        return None\n",
    "dem_census_df[\"geometry\"] = dem_census_df['geometry'].apply(wkt_loads)\n",
    "school_census_df[\"geometry\"] = school_census_df['geometry'].apply(wkt_loads)\n",
    "\n",
    "geo_dem_census_df = gpd.GeoDataFrame(dem_census_df, crs = \"EPSG:4674\", geometry = 'geometry')\n",
    "geo_school_census_df = gpd.GeoDataFrame(school_census_df, crs = \"EPSG:4674\", geometry = 'geometry')\n",
    "#"
   ]
  },
  {
   "cell_type": "code",
   "execution_count": 6,
   "metadata": {},
   "outputs": [
    {
     "data": {
      "text/html": [
       "<div>\n",
       "<style scoped>\n",
       "    .dataframe tbody tr th:only-of-type {\n",
       "        vertical-align: middle;\n",
       "    }\n",
       "\n",
       "    .dataframe tbody tr th {\n",
       "        vertical-align: top;\n",
       "    }\n",
       "\n",
       "    .dataframe thead th {\n",
       "        text-align: right;\n",
       "    }\n",
       "</style>\n",
       "<table border=\"1\" class=\"dataframe\">\n",
       "  <thead>\n",
       "    <tr style=\"text-align: right;\">\n",
       "      <th></th>\n",
       "      <th>region_name</th>\n",
       "      <th>region_id</th>\n",
       "      <th>state_name</th>\n",
       "      <th>state_abbrev</th>\n",
       "      <th>state_id</th>\n",
       "      <th>city_name</th>\n",
       "      <th>city_id</th>\n",
       "      <th>mesoregion_name</th>\n",
       "      <th>mesoregion_id</th>\n",
       "      <th>microregion_name</th>\n",
       "      <th>...</th>\n",
       "      <th>address</th>\n",
       "      <th>address_number</th>\n",
       "      <th>address_complement</th>\n",
       "      <th>neighborhood</th>\n",
       "      <th>zip_code</th>\n",
       "      <th>n_students</th>\n",
       "      <th>n_teachers</th>\n",
       "      <th>n_classes</th>\n",
       "      <th>sigla_uf</th>\n",
       "      <th>geometry</th>\n",
       "    </tr>\n",
       "  </thead>\n",
       "  <tbody>\n",
       "    <tr>\n",
       "      <th>1</th>\n",
       "      <td>Norte</td>\n",
       "      <td>1.0</td>\n",
       "      <td>Rondônia</td>\n",
       "      <td>RO</td>\n",
       "      <td>11.0</td>\n",
       "      <td>Alta Floresta D'Oeste</td>\n",
       "      <td>1100015.0</td>\n",
       "      <td>Leste Rondoniense</td>\n",
       "      <td>1102.0</td>\n",
       "      <td>Cacoal</td>\n",
       "      <td>...</td>\n",
       "      <td>AVENIDA RIO DE JANEIRO</td>\n",
       "      <td>4776</td>\n",
       "      <td>ESCOLA</td>\n",
       "      <td>CIDADE ALTA</td>\n",
       "      <td>76954000.0</td>\n",
       "      <td>0.0</td>\n",
       "      <td>0.0</td>\n",
       "      <td>0.0</td>\n",
       "      <td>RO</td>\n",
       "      <td>POINT (-61.98651 -11.93096)</td>\n",
       "    </tr>\n",
       "    <tr>\n",
       "      <th>2</th>\n",
       "      <td>Norte</td>\n",
       "      <td>1.0</td>\n",
       "      <td>Rondônia</td>\n",
       "      <td>RO</td>\n",
       "      <td>11.0</td>\n",
       "      <td>Alta Floresta D'Oeste</td>\n",
       "      <td>1100015.0</td>\n",
       "      <td>Leste Rondoniense</td>\n",
       "      <td>1102.0</td>\n",
       "      <td>Cacoal</td>\n",
       "      <td>...</td>\n",
       "      <td>LINHA 60 COM A 140</td>\n",
       "      <td>NaN</td>\n",
       "      <td>NaN</td>\n",
       "      <td>NaN</td>\n",
       "      <td>76954000.0</td>\n",
       "      <td>0.0</td>\n",
       "      <td>0.0</td>\n",
       "      <td>0.0</td>\n",
       "      <td>RO</td>\n",
       "      <td>POINT (-62.17758 -12.04284)</td>\n",
       "    </tr>\n",
       "    <tr>\n",
       "      <th>3</th>\n",
       "      <td>Norte</td>\n",
       "      <td>1.0</td>\n",
       "      <td>Rondônia</td>\n",
       "      <td>RO</td>\n",
       "      <td>11.0</td>\n",
       "      <td>Alta Floresta D'Oeste</td>\n",
       "      <td>1100015.0</td>\n",
       "      <td>Leste Rondoniense</td>\n",
       "      <td>1102.0</td>\n",
       "      <td>Cacoal</td>\n",
       "      <td>...</td>\n",
       "      <td>ROLIM DE MOURA DO GUAPORE</td>\n",
       "      <td>NaN</td>\n",
       "      <td>NaN</td>\n",
       "      <td>NaN</td>\n",
       "      <td>76954000.0</td>\n",
       "      <td>0.0</td>\n",
       "      <td>0.0</td>\n",
       "      <td>0.0</td>\n",
       "      <td>RO</td>\n",
       "      <td>POINT (-62.27693 -13.08367)</td>\n",
       "    </tr>\n",
       "    <tr>\n",
       "      <th>7</th>\n",
       "      <td>Norte</td>\n",
       "      <td>1.0</td>\n",
       "      <td>Rondônia</td>\n",
       "      <td>RO</td>\n",
       "      <td>11.0</td>\n",
       "      <td>Alta Floresta D'Oeste</td>\n",
       "      <td>1100015.0</td>\n",
       "      <td>Leste Rondoniense</td>\n",
       "      <td>1102.0</td>\n",
       "      <td>Cacoal</td>\n",
       "      <td>...</td>\n",
       "      <td>LINHA P 50 KM 22</td>\n",
       "      <td>NaN</td>\n",
       "      <td>NaN</td>\n",
       "      <td>NaN</td>\n",
       "      <td>76954000.0</td>\n",
       "      <td>0.0</td>\n",
       "      <td>0.0</td>\n",
       "      <td>0.0</td>\n",
       "      <td>RO</td>\n",
       "      <td>POINT (-61.99335 -12.12982)</td>\n",
       "    </tr>\n",
       "    <tr>\n",
       "      <th>8</th>\n",
       "      <td>Norte</td>\n",
       "      <td>1.0</td>\n",
       "      <td>Rondônia</td>\n",
       "      <td>RO</td>\n",
       "      <td>11.0</td>\n",
       "      <td>Alta Floresta D'Oeste</td>\n",
       "      <td>1100015.0</td>\n",
       "      <td>Leste Rondoniense</td>\n",
       "      <td>1102.0</td>\n",
       "      <td>Cacoal</td>\n",
       "      <td>...</td>\n",
       "      <td>AVENIDA MATO GROSSO</td>\n",
       "      <td>3861</td>\n",
       "      <td>NaN</td>\n",
       "      <td>CENTRO</td>\n",
       "      <td>76954000.0</td>\n",
       "      <td>264.0</td>\n",
       "      <td>39.0</td>\n",
       "      <td>27.0</td>\n",
       "      <td>RO</td>\n",
       "      <td>POINT (-61.99506 -11.92733)</td>\n",
       "    </tr>\n",
       "  </tbody>\n",
       "</table>\n",
       "<p>5 rows × 26 columns</p>\n",
       "</div>"
      ],
      "text/plain": [
       "  region_name  region_id state_name state_abbrev  state_id  \\\n",
       "1       Norte        1.0   Rondônia           RO      11.0   \n",
       "2       Norte        1.0   Rondônia           RO      11.0   \n",
       "3       Norte        1.0   Rondônia           RO      11.0   \n",
       "7       Norte        1.0   Rondônia           RO      11.0   \n",
       "8       Norte        1.0   Rondônia           RO      11.0   \n",
       "\n",
       "               city_name    city_id    mesoregion_name  mesoregion_id  \\\n",
       "1  Alta Floresta D'Oeste  1100015.0  Leste Rondoniense         1102.0   \n",
       "2  Alta Floresta D'Oeste  1100015.0  Leste Rondoniense         1102.0   \n",
       "3  Alta Floresta D'Oeste  1100015.0  Leste Rondoniense         1102.0   \n",
       "7  Alta Floresta D'Oeste  1100015.0  Leste Rondoniense         1102.0   \n",
       "8  Alta Floresta D'Oeste  1100015.0  Leste Rondoniense         1102.0   \n",
       "\n",
       "  microregion_name  ...                    address  address_number  \\\n",
       "1           Cacoal  ...     AVENIDA RIO DE JANEIRO            4776   \n",
       "2           Cacoal  ...         LINHA 60 COM A 140             NaN   \n",
       "3           Cacoal  ...  ROLIM DE MOURA DO GUAPORE             NaN   \n",
       "7           Cacoal  ...           LINHA P 50 KM 22             NaN   \n",
       "8           Cacoal  ...        AVENIDA MATO GROSSO            3861   \n",
       "\n",
       "   address_complement neighborhood    zip_code  n_students n_teachers  \\\n",
       "1              ESCOLA  CIDADE ALTA  76954000.0         0.0        0.0   \n",
       "2                 NaN          NaN  76954000.0         0.0        0.0   \n",
       "3                 NaN          NaN  76954000.0         0.0        0.0   \n",
       "7                 NaN          NaN  76954000.0         0.0        0.0   \n",
       "8                 NaN       CENTRO  76954000.0       264.0       39.0   \n",
       "\n",
       "  n_classes sigla_uf                     geometry  \n",
       "1       0.0       RO  POINT (-61.98651 -11.93096)  \n",
       "2       0.0       RO  POINT (-62.17758 -12.04284)  \n",
       "3       0.0       RO  POINT (-62.27693 -13.08367)  \n",
       "7       0.0       RO  POINT (-61.99335 -12.12982)  \n",
       "8      27.0       RO  POINT (-61.99506 -11.92733)  \n",
       "\n",
       "[5 rows x 26 columns]"
      ]
     },
     "execution_count": 6,
     "metadata": {},
     "output_type": "execute_result"
    }
   ],
   "source": [
    "\n",
    "# Removing NaNs\n",
    "geo_dem_census_df = geo_dem_census_df[~geo_dem_census_df.geometry.is_empty]\n",
    "geo_school_census_df = geo_school_census_df[~geo_school_census_df.geometry.is_empty]\n",
    "geo_dem_census_df = geo_dem_census_df[~geo_dem_census_df.geometry.isna()]\n",
    "geo_school_census_df = geo_school_census_df[~geo_school_census_df.geometry.isna()]\n",
    "\n",
    "geo_school_census_df.head()"
   ]
  },
  {
   "cell_type": "code",
   "execution_count": 7,
   "metadata": {},
   "outputs": [
    {
     "name": "stderr",
     "output_type": "stream",
     "text": [
      "/Users/feliphlvo/opt/anaconda3/envs/cap_env/lib/python3.10/site-packages/geopandas/array.py:93: ShapelyDeprecationWarning: __len__ for multi-part geometries is deprecated and will be removed in Shapely 2.0. Check the length of the `geoms` property instead to get the  number of parts of a multi-part geometry.\n",
      "  aout[:] = out\n",
      "/Users/feliphlvo/opt/anaconda3/envs/cap_env/lib/python3.10/site-packages/geopandas/geoseries.py:128: ShapelyDeprecationWarning: The array interface is deprecated and will no longer work in Shapely 2.0. Convert the '.coords' to a numpy array instead.\n",
      "  data = from_shapely(s.values)\n"
     ]
    }
   ],
   "source": [
    "# Projecting into the same geometry\n",
    "\n",
    "# https://epsg.io/5880 \n",
    "# The units are in meters which facilitates the interpretation of distance\n",
    "geo_dem_census_df = geo_dem_census_df.to_crs(epsg = 5641)\n",
    "geo_school_census_df = geo_school_census_df.to_crs(epsg = 5641)\n"
   ]
  },
  {
   "cell_type": "code",
   "execution_count": 8,
   "metadata": {},
   "outputs": [
    {
     "data": {
      "text/plain": [
       "region_name              726\n",
       "region_id                726\n",
       "state_name               726\n",
       "state_abbrev             726\n",
       "state_id                 726\n",
       "city_name                726\n",
       "city_id                  726\n",
       "mesoregion_name          726\n",
       "mesoregion_id            726\n",
       "microregion_name         726\n",
       "microregion_id           726\n",
       "sector_id                726\n",
       "school_id                  0\n",
       "school_name              726\n",
       "admin_type               726\n",
       "location_type            726\n",
       "address                 1815\n",
       "address_number         26569\n",
       "address_complement    100099\n",
       "neighborhood           16180\n",
       "zip_code                1814\n",
       "n_students             10479\n",
       "n_teachers             10856\n",
       "n_classes              10479\n",
       "sigla_uf                   0\n",
       "geometry                   0\n",
       "dtype: int64"
      ]
     },
     "execution_count": 8,
     "metadata": {},
     "output_type": "execute_result"
    }
   ],
   "source": [
    "geo_school_census_df.isna().sum()"
   ]
  },
  {
   "cell_type": "code",
   "execution_count": 12,
   "metadata": {},
   "outputs": [
    {
     "data": {
      "text/plain": [
       "Index(['sector_id', 'state', 'n_households', 'n_people',\n",
       "       'avg_monthly_earnings', 'n_people_15to17_white',\n",
       "       'n_people_15to17_black', 'n_people_15to17_asian',\n",
       "       'n_people_15to17_parda', 'n_people_15to17_indigenous', 'n_people_15',\n",
       "       'n_people_16', 'n_people_17', 'n_people_15_men', 'n_people_16_men',\n",
       "       'n_people_17_men', 'n_people_15_women', 'n_people_16_women',\n",
       "       'n_people_17_women', 'n_people_15to17', 'n_people_15to17_alternative',\n",
       "       'state_id', 'state_abbrev', 'city_id', 'city_name', 'district_id',\n",
       "       'district_name', 'subdistrict_id', 'subdistrict_name',\n",
       "       'neighborhood_name', 'neighborhood_id', 'zone', 'geometry'],\n",
       "      dtype='object')"
      ]
     },
     "execution_count": 12,
     "metadata": {},
     "output_type": "execute_result"
    }
   ],
   "source": [
    "geo_dem_census_df.columns"
   ]
  },
  {
   "cell_type": "code",
   "execution_count": 14,
   "metadata": {},
   "outputs": [],
   "source": [
    "# Only schools with at least one high school class and regions with at least one high-school aged person\n",
    "geo_dem_census_df = geo_dem_census_df[geo_dem_census_df[\"n_people_15to17\"] > 0]\n",
    "geo_school_census_df = geo_school_census_df[geo_school_census_df[\"n_classes\"] > 0]"
   ]
  },
  {
   "cell_type": "code",
   "execution_count": 23,
   "metadata": {},
   "outputs": [
    {
     "data": {
      "text/plain": [
       "[<matplotlib.lines.Line2D at 0x7f975ebbe0e0>]"
      ]
     },
     "execution_count": 23,
     "metadata": {},
     "output_type": "execute_result"
    },
    {
     "data": {
      "image/png": "[encoded data removed]",
      "text/plain": [
       "<Figure size 640x480 with 1 Axes>"
      ]
     },
     "metadata": {},
     "output_type": "display_data"
    }
   ],
   "source": [
    "# Plot a gaussian function\n",
    "import numpy as np\n",
    "import matplotlib.pyplot as plt\n",
    "\n",
    "x = np.linspace(0, 16000, 10000)\n",
    "y = weights.gaussian(6000)(x)\n",
    "plt.plot(x, y)"
   ]
  },
  {
   "cell_type": "code",
   "execution_count": null,
   "metadata": {},
   "outputs": [],
   "source": []
  }
 ],
 "metadata": {
  "kernelspec": {
   "display_name": "Python 3.10.4 ('cap_env')",
   "language": "python",
   "name": "python3"
  },
  "language_info": {
   "codemirror_mode": {
    "name": "ipython",
    "version": 3
   },
   "file_extension": ".py",
   "mimetype": "text/x-python",
   "name": "python",
   "nbconvert_exporter": "python",
   "pygments_lexer": "ipython3",
   "version": "3.10.4"
  },
  "orig_nbformat": 4,
  "vscode": {
   "interpreter": {
    "hash": "998f53a967595206ca2b0fe694f898506950a27042b510ab2e2e2930595cb248"
   }
  }
 },
 "nbformat": 4,
 "nbformat_minor": 2
}
