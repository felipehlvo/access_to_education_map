{
 "cells": [
  {
   "cell_type": "code",
   "execution_count": 2,
   "id": "8fd1cb3f",
   "metadata": {},
   "outputs": [],
   "source": [
    "import basedosdados as bd"
   ]
  },
  {
   "cell_type": "code",
   "execution_count": 2,
   "id": "16c6972b",
   "metadata": {},
   "outputs": [
    {
     "data": {
      "text/plain": [
       "['setor_censitario_basico_2010',\n",
       " 'setor_censitario_alfabetizacao_homens_mulheres_2010',\n",
       " 'setor_censitario_alfabetizacao_total_2010',\n",
       " 'setor_censitario_domicilio_caracteristicas_gerais_2010',\n",
       " 'setor_censitario_domicilio_moradores_2010',\n",
       " 'setor_censitario_domicilio_renda_2010',\n",
       " 'setor_censitario_entorno_2010',\n",
       " 'setor_censitario_idade_homens_2010',\n",
       " 'setor_censitario_idade_mulheres_2010',\n",
       " 'setor_censitario_idade_total_2010',\n",
       " 'setor_censitario_pessoa_renda_2010',\n",
       " 'setor_censitario_raca_alfabetizacao_idade_genero_2010',\n",
       " 'setor_censitario_raca_idade_genero_2010',\n",
       " 'setor_censitario_registro_civil_2010',\n",
       " 'setor_censitario_relacao_parentesco_conjuges_2010',\n",
       " 'setor_censitario_relacao_parentesco_filhos_2010',\n",
       " 'setor_censitario_relacao_parentesco_filhos_enteados_2010',\n",
       " 'setor_censitario_relacao_parentesco_outros_2010',\n",
       " 'setor_censitario_responsavel_domicilios_homens_total_2010',\n",
       " 'setor_censitario_responsavel_domicilios_mulheres_2010',\n",
       " 'setor_censitario_responsavel_renda_2010',\n",
       " 'setor_censitario_raca_idade_0_4_genero_2010']"
      ]
     },
     "execution_count": 2,
     "metadata": {},
     "output_type": "execute_result"
    }
   ],
   "source": [
    "# Tables that are stored by Base dos Dados \n",
    "# https://basedosdados.org/dataset/br-ibge-censo-demografico\n",
    "tables = \"setor_censitario_basico_2010 setor_censitario_alfabetizacao_homens_mulheres_2010 setor_censitario_alfabetizacao_total_2010 setor_censitario_domicilio_caracteristicas_gerais_2010 setor_censitario_domicilio_moradores_2010 setor_censitario_domicilio_renda_2010 setor_censitario_entorno_2010 setor_censitario_idade_homens_2010 setor_censitario_idade_mulheres_2010 setor_censitario_idade_total_2010 setor_censitario_pessoa_renda_2010 setor_censitario_raca_alfabetizacao_idade_genero_2010 setor_censitario_raca_idade_genero_2010 setor_censitario_registro_civil_2010 setor_censitario_relacao_parentesco_conjuges_2010 setor_censitario_relacao_parentesco_filhos_2010 setor_censitario_relacao_parentesco_filhos_enteados_2010 setor_censitario_relacao_parentesco_outros_2010 setor_censitario_responsavel_domicilios_homens_total_2010 setor_censitario_responsavel_domicilios_mulheres_2010 setor_censitario_responsavel_renda_2010 setor_censitario_raca_idade_0_4_genero_2010\".split()\n",
    "\n",
    "\n",
    "tables"
   ]
  },
  {
   "cell_type": "code",
   "execution_count": 4,
   "id": "5b4169b4",
   "metadata": {},
   "outputs": [
    {
     "name": "stdout",
     "output_type": "stream",
     "text": [
      "Downloading setor_censitario_basico_2010\n",
      "Done, moving on\n",
      "Downloading setor_censitario_alfabetizacao_homens_mulheres_2010\n",
      "Done, moving on\n",
      "Downloading setor_censitario_alfabetizacao_total_2010\n",
      "Done, moving on\n",
      "Downloading setor_censitario_domicilio_caracteristicas_gerais_2010\n",
      "Done, moving on\n",
      "Downloading setor_censitario_domicilio_moradores_2010\n",
      "Done, moving on\n",
      "Downloading setor_censitario_domicilio_renda_2010\n",
      "Done, moving on\n",
      "Downloading setor_censitario_entorno_2010\n",
      "Done, moving on\n",
      "Downloading setor_censitario_idade_homens_2010\n",
      "Done, moving on\n",
      "Downloading setor_censitario_idade_mulheres_2010\n",
      "Done, moving on\n",
      "Downloading setor_censitario_idade_total_2010\n",
      "Done, moving on\n",
      "Downloading setor_censitario_pessoa_renda_2010\n",
      "Done, moving on\n",
      "Downloading setor_censitario_raca_alfabetizacao_idade_genero_2010\n",
      "Done, moving on\n",
      "Downloading setor_censitario_raca_idade_genero_2010\n",
      "Done, moving on\n",
      "Downloading setor_censitario_registro_civil_2010\n",
      "Done, moving on\n",
      "Downloading setor_censitario_relacao_parentesco_conjuges_2010\n",
      "Done, moving on\n",
      "Downloading setor_censitario_relacao_parentesco_filhos_2010\n",
      "Done, moving on\n",
      "Downloading setor_censitario_relacao_parentesco_filhos_enteados_2010\n",
      "Done, moving on\n",
      "Downloading setor_censitario_relacao_parentesco_outros_2010\n",
      "Done, moving on\n",
      "Downloading setor_censitario_responsavel_domicilios_homens_total_2010\n",
      "Done, moving on\n",
      "Downloading setor_censitario_responsavel_domicilios_mulheres_2010\n",
      "Done, moving on\n",
      "Downloading setor_censitario_responsavel_renda_2010\n",
      "Done, moving on\n",
      "Downloading setor_censitario_raca_idade_0_4_genero_2010\n",
      "Done, moving on\n",
      "DONE!\n"
     ]
    }
   ],
   "source": [
    "# Download all of the tables using Google BigQuery\n",
    "for table in tables:\n",
    "    query = f\"\"\"\n",
    "    SELECT *\n",
    "    FROM basedosdados.br_ibge_censo_demografico.{table}\n",
    "    \"\"\"\n",
    "\n",
    "    print(\"Downloading\", table)\n",
    "\n",
    "    bd.download(\n",
    "    f\"/Users/feliphlvo/Documents/Minerva/Capstone/data/Base dos Dados/{table}.csv\",\n",
    "    query=query,\n",
    "    dataset_id=\"br_ibge_censo_demografico\",\n",
    "    table_id=table,\n",
    "    billing_project_id=\"base-dos-dados-363119\",\n",
    "    query_project_id=\"basedosdados\",\n",
    "    )\n",
    "\n",
    "    print(\"Done, moving on\")\n",
    "    \n",
    "print(\"DONE!\")\n",
    "    "
   ]
  },
  {
   "cell_type": "code",
   "execution_count": 3,
   "id": "bfc5bab3",
   "metadata": {},
   "outputs": [],
   "source": [
    "# Downloading geolocation data\n",
    "bd.download(\n",
    "    f\"/Users/feliphlvo/Documents/Minerva/Capstone/data/Base dos Dados/geobr_setor_censitario_2010.csv\",\n",
    "    query=\"SELECT * FROM basedosdados.br_geobr_mapas.setor_censitario_2010\",\n",
    "    dataset_id=\"br_geobr_mapas\",\n",
    "    table_id=\"setor_censitario_2010\",\n",
    "    billing_project_id=\"base-dos-dados-363119\",\n",
    "    query_project_id=\"basedosdados\",\n",
    "    )"
   ]
  },
  {
   "cell_type": "code",
   "execution_count": null,
   "id": "809278e4",
   "metadata": {},
   "outputs": [],
   "source": []
  }
 ],
 "metadata": {
  "kernelspec": {
   "display_name": "Python 3.10.4 ('cap_env')",
   "language": "python",
   "name": "python3"
  },
  "language_info": {
   "codemirror_mode": {
    "name": "ipython",
    "version": 3
   },
   "file_extension": ".py",
   "mimetype": "text/x-python",
   "name": "python",
   "nbconvert_exporter": "python",
   "pygments_lexer": "ipython3",
   "version": "3.10.4"
  },
  "vscode": {
   "interpreter": {
    "hash": "998f53a967595206ca2b0fe694f898506950a27042b510ab2e2e2930595cb248"
   }
  }
 },
 "nbformat": 4,
 "nbformat_minor": 5
}
